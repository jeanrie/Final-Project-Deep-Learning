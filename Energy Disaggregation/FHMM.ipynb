{
 "cells": [
  {
   "cell_type": "code",
   "execution_count": 1,
   "id": "a069a304-3dab-4fc7-9855-8a41e575852e",
   "metadata": {},
   "outputs": [],
   "source": [
    "from __future__ import print_function, division\n",
    "import time\n",
    "\n",
    "from matplotlib import rcParams\n",
    "import matplotlib.pyplot as plt\n",
    "import pandas as pd\n",
    "import numpy as np\n",
    "from six import iteritems\n",
    "\n",
    "from nilmtk import DataSet, TimeFrame, MeterGroup, HDFDataStore\n",
    "from nilmtk.legacy.disaggregate import CombinatorialOptimisation, FHMM\n",
    "import nilmtk.utils\n",
    "\n",
    "%matplotlib inline"
   ]
  },
  {
   "cell_type": "code",
   "execution_count": 2,
   "id": "c0f5cf6c-b2ed-41ac-a700-ef75c2e995ff",
   "metadata": {},
   "outputs": [],
   "source": [
    "train = DataSet(r\"C:\\Users\\jenic\\Data.h5\")\n",
    "test = DataSet(r\"C:\\Users\\jenic\\Data.h5\")"
   ]
  },
  {
   "cell_type": "code",
   "execution_count": 3,
   "id": "8153566e-1a14-4567-94c8-b0bd76466cd7",
   "metadata": {},
   "outputs": [],
   "source": [
    "building = 17"
   ]
  },
  {
   "cell_type": "code",
   "execution_count": 4,
   "id": "ca9022e0-cdab-4760-9971-92fc94b058ad",
   "metadata": {},
   "outputs": [
    {
     "name": "stdout",
     "output_type": "stream",
     "text": [
      "MeterGroup(meters=\n",
      "  ElecMeter(instance=1, building=1, dataset='REFIT', site_meter, appliances=[])\n",
      "  ElecMeter(instance=2, building=1, dataset='REFIT', appliances=[Appliance(type='fridge', instance=1)])\n",
      "  ElecMeter(instance=3, building=1, dataset='REFIT', appliances=[Appliance(type='freezer', instance=1)])\n",
      "  ElecMeter(instance=4, building=1, dataset='REFIT', appliances=[Appliance(type='freezer', instance=2)])\n",
      "  ElecMeter(instance=5, building=1, dataset='REFIT', appliances=[Appliance(type='washer dryer', instance=1)])\n",
      "  ElecMeter(instance=6, building=1, dataset='REFIT', appliances=[Appliance(type='washing machine', instance=1)])\n",
      "  ElecMeter(instance=7, building=1, dataset='REFIT', appliances=[Appliance(type='dish washer', instance=1)])\n",
      "  ElecMeter(instance=8, building=1, dataset='REFIT', appliances=[Appliance(type='computer', instance=1)])\n",
      "  ElecMeter(instance=9, building=1, dataset='REFIT', appliances=[Appliance(type='television', instance=1)])\n",
      "  ElecMeter(instance=10, building=1, dataset='REFIT', appliances=[Appliance(type='electric space heater', instance=1)])\n",
      ")\n"
     ]
    },
    {
     "name": "stderr",
     "output_type": "stream",
     "text": [
      "C:\\Users\\jenic\\anaconda3\\envs\\nilmtk-env\\lib\\site-packages\\pandas\\plotting\\_matplotlib\\converter.py:103: FutureWarning: Using an implicitly registered datetime converter for a matplotlib plotting method. The converter was registered by pandas on import. Future versions of pandas will require you to explicitly register matplotlib converters.\n",
      "\n",
      "To register the converters:\n",
      "\t>>> from pandas.plotting import register_matplotlib_converters\n",
      "\t>>> register_matplotlib_converters()\n",
      "  warnings.warn(msg, FutureWarning)\n"
     ]
    },
    {
     "data": {
      "text/plain": [
       "[<matplotlib.lines.Line2D at 0x24c2d192cd0>]"
      ]
     },
     "execution_count": 4,
     "metadata": {},
     "output_type": "execute_result"
    },
    {
     "data": {
      "image/png": "[encoded data removed]",
      "text/plain": [
       "<Figure size 640x480 with 1 Axes>"
      ]
     },
     "metadata": {},
     "output_type": "display_data"
    }
   ],
   "source": [
    "import matplotlib.pyplot as plt\n",
    "from nilmtk import DataSet\n",
    "%matplotlib inline\n",
    "\n",
    "train_elec = train.buildings[1].elec\n",
    "\n",
    "print(train_elec)\n",
    "plt.plot(train_elec[1].power_series_all_data())"
   ]
  },
  {
   "cell_type": "code",
   "execution_count": 5,
   "id": "b0de140e-263e-4da4-883a-7abc21eeef8e",
   "metadata": {},
   "outputs": [],
   "source": [
    "train.set_window(start='2014-03-15',end='2014-03-16')\n",
    "train_elec = train.buildings[1].elec\n",
    "\n",
    "test.set_window(start='2014-03-15',end='2014-03-16')\n",
    "test_elec = test.buildings[1].elec"
   ]
  },
  {
   "cell_type": "code",
   "execution_count": 6,
   "id": "6b2471a1-6941-42d7-b33c-b4d2bc90940b",
   "metadata": {},
   "outputs": [],
   "source": [
    "mains=train_elec.mains()\n",
    "submeters=train_elec.submeters()"
   ]
  },
  {
   "cell_type": "code",
   "execution_count": 7,
   "id": "9db516e9-2b5f-43ba-88c9-be5cd7eb6a4d",
   "metadata": {},
   "outputs": [
    {
     "data": {
      "text/plain": [
       "['active']"
      ]
     },
     "execution_count": 7,
     "metadata": {},
     "output_type": "execute_result"
    }
   ],
   "source": [
    "mains.available_ac_types('power')"
   ]
  },
  {
   "cell_type": "code",
   "execution_count": 8,
   "id": "455b3698-5fab-41ae-8db3-8485cf00f741",
   "metadata": {},
   "outputs": [
    {
     "data": {
      "text/plain": [
       "['active']"
      ]
     },
     "execution_count": 8,
     "metadata": {},
     "output_type": "execute_result"
    }
   ],
   "source": [
    "submeters.available_ac_types('power')"
   ]
  },
  {
   "cell_type": "code",
   "execution_count": 9,
   "id": "e3cb9afd-d14d-4a02-ad2d-79c74e5e4bba",
   "metadata": {},
   "outputs": [],
   "source": [
    "def predict(clf, test_elec, sample_period, timezone):\n",
    "    pred = {}\n",
    "    gt= {}\n",
    "    \n",
    "    # \"ac_type\" varies according to the dataset used. \n",
    "    # Make sure to use the correct ac_type before using the default parameters in this code.    \n",
    "    for i, chunk in enumerate(test_elec.mains().load(physical_quantity = 'power', ac_type = 'active', sample_period=sample_period)):\n",
    "        chunk_drop_na = chunk.dropna()\n",
    "        pred[i] = clf.disaggregate_chunk(chunk_drop_na)\n",
    "        gt[i]={}\n",
    "\n",
    "        for meter in test_elec.submeters().meters:\n",
    "            # Only use the meters that we trained on (this saves time!)    \n",
    "            gt[i][meter] = next(meter.load(physical_quantity = 'power', ac_type = 'active', sample_period=sample_period))\n",
    "        gt[i] = pd.DataFrame({k:v.squeeze() for k,v in iteritems(gt[i]) if len(v)}, index=next(iter(gt[i].values())).index).dropna()\n",
    "        \n",
    "    # If everything can fit in memory\n",
    "    gt_overall = pd.concat(gt)\n",
    "    gt_overall.index = gt_overall.index.droplevel()\n",
    "    pred_overall = pd.concat(pred)\n",
    "    pred_overall.index = pred_overall.index.droplevel()\n",
    "\n",
    "    # Having the same order of columns\n",
    "    gt_overall = gt_overall[pred_overall.columns]\n",
    "    \n",
    "    #Intersection of index\n",
    "    gt_index_utc = gt_overall.index.tz_convert(\"UTC\")\n",
    "    pred_index_utc = pred_overall.index.tz_convert(\"UTC\")\n",
    "    common_index_utc = gt_index_utc.intersection(pred_index_utc)\n",
    "    \n",
    "    common_index_local = common_index_utc.tz_convert(timezone)\n",
    "    gt_overall = gt_overall.loc[common_index_local]\n",
    "    pred_overall = pred_overall.loc[common_index_local]\n",
    "    appliance_labels = [m for m in gt_overall.columns.values]\n",
    "    gt_overall.columns = appliance_labels\n",
    "    pred_overall.columns = appliance_labels\n",
    "    return gt_overall, pred_overall"
   ]
  },
  {
   "cell_type": "code",
   "execution_count": 10,
   "id": "97735f1c-b9cc-40d5-b501-814a8a25583a",
   "metadata": {},
   "outputs": [
    {
     "name": "stdout",
     "output_type": "stream",
     "text": [
      "FHMM\n"
     ]
    },
    {
     "name": "stderr",
     "output_type": "stream",
     "text": [
      "C:\\Users\\jenic\\anaconda3\\envs\\nilmtk-env\\lib\\site-packages\\sklearn\\cluster\\_kmeans.py:1334: UserWarning: KMeans is known to have a memory leak on Windows with MKL, when there are less chunks than available threads. You can avoid it by setting the environment variable OMP_NUM_THREADS=2.\n",
      "  warnings.warn(\n",
      "C:\\Users\\jenic\\anaconda3\\envs\\nilmtk-env\\lib\\site-packages\\sklearn\\cluster\\_kmeans.py:1334: UserWarning: KMeans is known to have a memory leak on Windows with MKL, when there are less chunks than available threads. You can avoid it by setting the environment variable OMP_NUM_THREADS=2.\n",
      "  warnings.warn(\n",
      "C:\\Users\\jenic\\anaconda3\\envs\\nilmtk-env\\lib\\site-packages\\sklearn\\cluster\\_kmeans.py:1334: UserWarning: KMeans is known to have a memory leak on Windows with MKL, when there are less chunks than available threads. You can avoid it by setting the environment variable OMP_NUM_THREADS=6.\n",
      "  warnings.warn(\n"
     ]
    },
    {
     "name": "stdout",
     "output_type": "stream",
     "text": [
      "Training model for submeter 'ElecMeter(instance=2, building=1, dataset='REFIT', appliances=[Appliance(type='fridge', instance=1)])' with 3 states\n"
     ]
    },
    {
     "name": "stderr",
     "output_type": "stream",
     "text": [
      "C:\\Users\\jenic\\anaconda3\\envs\\nilmtk-env\\lib\\site-packages\\sklearn\\cluster\\_kmeans.py:1334: UserWarning: KMeans is known to have a memory leak on Windows with MKL, when there are less chunks than available threads. You can avoid it by setting the environment variable OMP_NUM_THREADS=2.\n",
      "  warnings.warn(\n",
      "C:\\Users\\jenic\\anaconda3\\envs\\nilmtk-env\\lib\\site-packages\\sklearn\\cluster\\_kmeans.py:1334: UserWarning: KMeans is known to have a memory leak on Windows with MKL, when there are less chunks than available threads. You can avoid it by setting the environment variable OMP_NUM_THREADS=2.\n",
      "  warnings.warn(\n",
      "C:\\Users\\jenic\\anaconda3\\envs\\nilmtk-env\\lib\\site-packages\\sklearn\\cluster\\_kmeans.py:1334: UserWarning: KMeans is known to have a memory leak on Windows with MKL, when there are less chunks than available threads. You can avoid it by setting the environment variable OMP_NUM_THREADS=6.\n",
      "  warnings.warn(\n"
     ]
    },
    {
     "name": "stdout",
     "output_type": "stream",
     "text": [
      "Training model for submeter 'ElecMeter(instance=3, building=1, dataset='REFIT', appliances=[Appliance(type='freezer', instance=1)])' with 3 states\n"
     ]
    },
    {
     "name": "stderr",
     "output_type": "stream",
     "text": [
      "C:\\Users\\jenic\\anaconda3\\envs\\nilmtk-env\\lib\\site-packages\\sklearn\\cluster\\_kmeans.py:1334: UserWarning: KMeans is known to have a memory leak on Windows with MKL, when there are less chunks than available threads. You can avoid it by setting the environment variable OMP_NUM_THREADS=8.\n",
      "  warnings.warn(\n",
      "C:\\Users\\jenic\\anaconda3\\envs\\nilmtk-env\\lib\\site-packages\\sklearn\\cluster\\_kmeans.py:1334: UserWarning: KMeans is known to have a memory leak on Windows with MKL, when there are less chunks than available threads. You can avoid it by setting the environment variable OMP_NUM_THREADS=8.\n",
      "  warnings.warn(\n",
      "C:\\Users\\jenic\\anaconda3\\envs\\nilmtk-env\\lib\\site-packages\\nilmtk\\feature_detectors\\cluster.py:70: ConvergenceWarning: Number of distinct clusters (1) found smaller than n_clusters (2). Possibly due to duplicate points in X.\n",
      "  k_means.fit(X)\n",
      "C:\\Users\\jenic\\anaconda3\\envs\\nilmtk-env\\lib\\site-packages\\sklearn\\cluster\\_kmeans.py:1334: UserWarning: KMeans is known to have a memory leak on Windows with MKL, when there are less chunks than available threads. You can avoid it by setting the environment variable OMP_NUM_THREADS=6.\n",
      "  warnings.warn(\n"
     ]
    },
    {
     "name": "stdout",
     "output_type": "stream",
     "text": [
      "Training model for submeter 'ElecMeter(instance=4, building=1, dataset='REFIT', appliances=[Appliance(type='freezer', instance=2)])' with 1 states\n",
      "Training model for submeter 'ElecMeter(instance=5, building=1, dataset='REFIT', appliances=[Appliance(type='washer dryer', instance=1)])' with 3 states\n"
     ]
    },
    {
     "name": "stderr",
     "output_type": "stream",
     "text": [
      "C:\\Users\\jenic\\anaconda3\\envs\\nilmtk-env\\lib\\site-packages\\sklearn\\cluster\\_kmeans.py:1334: UserWarning: KMeans is known to have a memory leak on Windows with MKL, when there are less chunks than available threads. You can avoid it by setting the environment variable OMP_NUM_THREADS=1.\n",
      "  warnings.warn(\n",
      "C:\\Users\\jenic\\anaconda3\\envs\\nilmtk-env\\lib\\site-packages\\sklearn\\cluster\\_kmeans.py:1334: UserWarning: KMeans is known to have a memory leak on Windows with MKL, when there are less chunks than available threads. You can avoid it by setting the environment variable OMP_NUM_THREADS=1.\n",
      "  warnings.warn(\n",
      "C:\\Users\\jenic\\anaconda3\\envs\\nilmtk-env\\lib\\site-packages\\sklearn\\cluster\\_kmeans.py:1334: UserWarning: KMeans is known to have a memory leak on Windows with MKL, when there are less chunks than available threads. You can avoid it by setting the environment variable OMP_NUM_THREADS=6.\n",
      "  warnings.warn(\n",
      "C:\\Users\\jenic\\anaconda3\\envs\\nilmtk-env\\lib\\site-packages\\sklearn\\cluster\\_kmeans.py:1334: UserWarning: KMeans is known to have a memory leak on Windows with MKL, when there are less chunks than available threads. You can avoid it by setting the environment variable OMP_NUM_THREADS=2.\n",
      "  warnings.warn(\n",
      "C:\\Users\\jenic\\anaconda3\\envs\\nilmtk-env\\lib\\site-packages\\sklearn\\cluster\\_kmeans.py:1334: UserWarning: KMeans is known to have a memory leak on Windows with MKL, when there are less chunks than available threads. You can avoid it by setting the environment variable OMP_NUM_THREADS=2.\n",
      "  warnings.warn(\n",
      "C:\\Users\\jenic\\anaconda3\\envs\\nilmtk-env\\lib\\site-packages\\sklearn\\cluster\\_kmeans.py:1334: UserWarning: KMeans is known to have a memory leak on Windows with MKL, when there are less chunks than available threads. You can avoid it by setting the environment variable OMP_NUM_THREADS=6.\n",
      "  warnings.warn(\n",
      "C:\\Users\\jenic\\anaconda3\\envs\\nilmtk-env\\lib\\site-packages\\sklearn\\cluster\\_kmeans.py:1334: UserWarning: KMeans is known to have a memory leak on Windows with MKL, when there are less chunks than available threads. You can avoid it by setting the environment variable OMP_NUM_THREADS=6.\n",
      "  warnings.warn(\n"
     ]
    },
    {
     "name": "stdout",
     "output_type": "stream",
     "text": [
      "Training model for submeter 'ElecMeter(instance=6, building=1, dataset='REFIT', appliances=[Appliance(type='washing machine', instance=1)])' with 3 states\n"
     ]
    },
    {
     "name": "stderr",
     "output_type": "stream",
     "text": [
      "C:\\Users\\jenic\\anaconda3\\envs\\nilmtk-env\\lib\\site-packages\\sklearn\\cluster\\_kmeans.py:1334: UserWarning: KMeans is known to have a memory leak on Windows with MKL, when there are less chunks than available threads. You can avoid it by setting the environment variable OMP_NUM_THREADS=6.\n",
      "  warnings.warn(\n",
      "C:\\Users\\jenic\\anaconda3\\envs\\nilmtk-env\\lib\\site-packages\\sklearn\\cluster\\_kmeans.py:1334: UserWarning: KMeans is known to have a memory leak on Windows with MKL, when there are less chunks than available threads. You can avoid it by setting the environment variable OMP_NUM_THREADS=6.\n",
      "  warnings.warn(\n"
     ]
    },
    {
     "name": "stdout",
     "output_type": "stream",
     "text": [
      "Training model for submeter 'ElecMeter(instance=7, building=1, dataset='REFIT', appliances=[Appliance(type='dish washer', instance=1)])' with 3 states\n"
     ]
    },
    {
     "name": "stderr",
     "output_type": "stream",
     "text": [
      "C:\\Users\\jenic\\anaconda3\\envs\\nilmtk-env\\lib\\site-packages\\sklearn\\cluster\\_kmeans.py:1334: UserWarning: KMeans is known to have a memory leak on Windows with MKL, when there are less chunks than available threads. You can avoid it by setting the environment variable OMP_NUM_THREADS=8.\n",
      "  warnings.warn(\n",
      "C:\\Users\\jenic\\anaconda3\\envs\\nilmtk-env\\lib\\site-packages\\sklearn\\cluster\\_kmeans.py:1334: UserWarning: KMeans is known to have a memory leak on Windows with MKL, when there are less chunks than available threads. You can avoid it by setting the environment variable OMP_NUM_THREADS=8.\n",
      "  warnings.warn(\n",
      "C:\\Users\\jenic\\anaconda3\\envs\\nilmtk-env\\lib\\site-packages\\nilmtk\\feature_detectors\\cluster.py:70: ConvergenceWarning: Number of distinct clusters (1) found smaller than n_clusters (2). Possibly due to duplicate points in X.\n",
      "  k_means.fit(X)\n",
      "C:\\Users\\jenic\\anaconda3\\envs\\nilmtk-env\\lib\\site-packages\\sklearn\\cluster\\_kmeans.py:1334: UserWarning: KMeans is known to have a memory leak on Windows with MKL, when there are less chunks than available threads. You can avoid it by setting the environment variable OMP_NUM_THREADS=6.\n",
      "  warnings.warn(\n"
     ]
    },
    {
     "name": "stdout",
     "output_type": "stream",
     "text": [
      "Training model for submeter 'ElecMeter(instance=8, building=1, dataset='REFIT', appliances=[Appliance(type='computer', instance=1)])' with 1 states\n",
      "Training model for submeter 'ElecMeter(instance=9, building=1, dataset='REFIT', appliances=[Appliance(type='television', instance=1)])' with 1 states\n"
     ]
    },
    {
     "name": "stderr",
     "output_type": "stream",
     "text": [
      "C:\\Users\\jenic\\anaconda3\\envs\\nilmtk-env\\lib\\site-packages\\sklearn\\cluster\\_kmeans.py:1334: UserWarning: KMeans is known to have a memory leak on Windows with MKL, when there are less chunks than available threads. You can avoid it by setting the environment variable OMP_NUM_THREADS=8.\n",
      "  warnings.warn(\n",
      "C:\\Users\\jenic\\anaconda3\\envs\\nilmtk-env\\lib\\site-packages\\sklearn\\cluster\\_kmeans.py:1334: UserWarning: KMeans is known to have a memory leak on Windows with MKL, when there are less chunks than available threads. You can avoid it by setting the environment variable OMP_NUM_THREADS=8.\n",
      "  warnings.warn(\n",
      "C:\\Users\\jenic\\anaconda3\\envs\\nilmtk-env\\lib\\site-packages\\nilmtk\\feature_detectors\\cluster.py:70: ConvergenceWarning: Number of distinct clusters (1) found smaller than n_clusters (2). Possibly due to duplicate points in X.\n",
      "  k_means.fit(X)\n",
      "C:\\Users\\jenic\\anaconda3\\envs\\nilmtk-env\\lib\\site-packages\\sklearn\\cluster\\_kmeans.py:1334: UserWarning: KMeans is known to have a memory leak on Windows with MKL, when there are less chunks than available threads. You can avoid it by setting the environment variable OMP_NUM_THREADS=6.\n",
      "  warnings.warn(\n",
      "C:\\Users\\jenic\\anaconda3\\envs\\nilmtk-env\\lib\\site-packages\\sklearn\\cluster\\_kmeans.py:1334: UserWarning: KMeans is known to have a memory leak on Windows with MKL, when there are less chunks than available threads. You can avoid it by setting the environment variable OMP_NUM_THREADS=8.\n",
      "  warnings.warn(\n",
      "C:\\Users\\jenic\\anaconda3\\envs\\nilmtk-env\\lib\\site-packages\\sklearn\\cluster\\_kmeans.py:1334: UserWarning: KMeans is known to have a memory leak on Windows with MKL, when there are less chunks than available threads. You can avoid it by setting the environment variable OMP_NUM_THREADS=8.\n",
      "  warnings.warn(\n",
      "C:\\Users\\jenic\\anaconda3\\envs\\nilmtk-env\\lib\\site-packages\\nilmtk\\feature_detectors\\cluster.py:70: ConvergenceWarning: Number of distinct clusters (1) found smaller than n_clusters (2). Possibly due to duplicate points in X.\n",
      "  k_means.fit(X)\n",
      "C:\\Users\\jenic\\anaconda3\\envs\\nilmtk-env\\lib\\site-packages\\sklearn\\cluster\\_kmeans.py:1334: UserWarning: KMeans is known to have a memory leak on Windows with MKL, when there are less chunks than available threads. You can avoid it by setting the environment variable OMP_NUM_THREADS=6.\n",
      "  warnings.warn(\n"
     ]
    },
    {
     "name": "stdout",
     "output_type": "stream",
     "text": [
      "Training model for submeter 'ElecMeter(instance=10, building=1, dataset='REFIT', appliances=[Appliance(type='electric space heater', instance=1)])' with 1 states\n",
      "Runtime = 2.2330455780029297 seconds.\n"
     ]
    }
   ],
   "source": [
    "classifiers = {'FHMM':FHMM()}\n",
    "predictions = {}\n",
    "sample_period = 200\n",
    "for clf_name, clf in classifiers.items():\n",
    "    print(clf_name)\n",
    "    start = time.time()\n",
    "    # Note that we have given the sample period to downsample the data to 1 minute. \n",
    "    # If instead of top_5 we wanted to train on all appliance, we would write \n",
    "    # fhmm.train(train_elec, sample_period=60)\n",
    "    clf.train(train_elec, sample_period=60)\n",
    "    end = time.time()\n",
    "    print(\"Runtime =\", end-start, \"seconds.\")\n",
    "    gt, predictions[clf_name] = predict(clf, test_elec, sample_period, train.metadata['timezone'])"
   ]
  },
  {
   "cell_type": "code",
   "execution_count": 11,
   "id": "44314e2d-00d2-4978-8c03-21efce578c7c",
   "metadata": {},
   "outputs": [],
   "source": [
    "appliance_labels = [m.label() for m in gt.columns.values]"
   ]
  },
  {
   "cell_type": "code",
   "execution_count": 12,
   "id": "e1f65479-2427-4c8c-8ffc-1fcf11dd0a19",
   "metadata": {},
   "outputs": [],
   "source": [
    "gt.columns = appliance_labels\n",
    "predictions['FHMM'].columns = appliance_labels"
   ]
  },
  {
   "cell_type": "code",
   "execution_count": 13,
   "id": "3f1456a2-3dd4-4c26-bb3d-6dcbffb0c7f2",
   "metadata": {},
   "outputs": [
    {
     "data": {
      "text/html": [
       "<div>\n",
       "<style scoped>\n",
       "    .dataframe tbody tr th:only-of-type {\n",
       "        vertical-align: middle;\n",
       "    }\n",
       "\n",
       "    .dataframe tbody tr th {\n",
       "        vertical-align: top;\n",
       "    }\n",
       "\n",
       "    .dataframe thead th {\n",
       "        text-align: right;\n",
       "    }\n",
       "</style>\n",
       "<table border=\"1\" class=\"dataframe\">\n",
       "  <thead>\n",
       "    <tr style=\"text-align: right;\">\n",
       "      <th></th>\n",
       "      <th>Fridge</th>\n",
       "      <th>Freezer</th>\n",
       "      <th>Freezer</th>\n",
       "      <th>Washer dryer</th>\n",
       "      <th>Washing machine</th>\n",
       "      <th>Dish washer</th>\n",
       "      <th>Computer</th>\n",
       "      <th>Television</th>\n",
       "      <th>Electric space heater</th>\n",
       "    </tr>\n",
       "    <tr>\n",
       "      <th>Unix</th>\n",
       "      <th></th>\n",
       "      <th></th>\n",
       "      <th></th>\n",
       "      <th></th>\n",
       "      <th></th>\n",
       "      <th></th>\n",
       "      <th></th>\n",
       "      <th></th>\n",
       "      <th></th>\n",
       "    </tr>\n",
       "  </thead>\n",
       "  <tbody>\n",
       "    <tr>\n",
       "      <th>2014-03-15 00:00:00+00:00</th>\n",
       "      <td>0.0</td>\n",
       "      <td>79.107143</td>\n",
       "      <td>0</td>\n",
       "      <td>0.0</td>\n",
       "      <td>3.000000</td>\n",
       "      <td>25.142857</td>\n",
       "      <td>2.142857</td>\n",
       "      <td>0.0</td>\n",
       "      <td>0.785714</td>\n",
       "    </tr>\n",
       "    <tr>\n",
       "      <th>2014-03-15 00:03:20+00:00</th>\n",
       "      <td>0.0</td>\n",
       "      <td>77.440000</td>\n",
       "      <td>0</td>\n",
       "      <td>0.0</td>\n",
       "      <td>3.040000</td>\n",
       "      <td>25.160000</td>\n",
       "      <td>2.040000</td>\n",
       "      <td>0.0</td>\n",
       "      <td>0.840000</td>\n",
       "    </tr>\n",
       "    <tr>\n",
       "      <th>2014-03-15 00:06:40+00:00</th>\n",
       "      <td>0.0</td>\n",
       "      <td>76.450000</td>\n",
       "      <td>0</td>\n",
       "      <td>0.0</td>\n",
       "      <td>3.000000</td>\n",
       "      <td>25.000000</td>\n",
       "      <td>2.000000</td>\n",
       "      <td>0.0</td>\n",
       "      <td>0.900000</td>\n",
       "    </tr>\n",
       "    <tr>\n",
       "      <th>2014-03-15 00:10:00+00:00</th>\n",
       "      <td>0.0</td>\n",
       "      <td>75.413793</td>\n",
       "      <td>0</td>\n",
       "      <td>0.0</td>\n",
       "      <td>3.103448</td>\n",
       "      <td>24.965517</td>\n",
       "      <td>2.034483</td>\n",
       "      <td>0.0</td>\n",
       "      <td>0.896552</td>\n",
       "    </tr>\n",
       "    <tr>\n",
       "      <th>2014-03-15 00:13:20+00:00</th>\n",
       "      <td>0.0</td>\n",
       "      <td>74.904762</td>\n",
       "      <td>0</td>\n",
       "      <td>0.0</td>\n",
       "      <td>3.000000</td>\n",
       "      <td>25.000000</td>\n",
       "      <td>2.333333</td>\n",
       "      <td>0.0</td>\n",
       "      <td>0.857143</td>\n",
       "    </tr>\n",
       "  </tbody>\n",
       "</table>\n",
       "</div>"
      ],
      "text/plain": [
       "                           Fridge    Freezer  Freezer  Washer dryer  \\\n",
       "Unix                                                                  \n",
       "2014-03-15 00:00:00+00:00     0.0  79.107143        0           0.0   \n",
       "2014-03-15 00:03:20+00:00     0.0  77.440000        0           0.0   \n",
       "2014-03-15 00:06:40+00:00     0.0  76.450000        0           0.0   \n",
       "2014-03-15 00:10:00+00:00     0.0  75.413793        0           0.0   \n",
       "2014-03-15 00:13:20+00:00     0.0  74.904762        0           0.0   \n",
       "\n",
       "                           Washing machine  Dish washer  Computer  Television  \\\n",
       "Unix                                                                            \n",
       "2014-03-15 00:00:00+00:00         3.000000    25.142857  2.142857         0.0   \n",
       "2014-03-15 00:03:20+00:00         3.040000    25.160000  2.040000         0.0   \n",
       "2014-03-15 00:06:40+00:00         3.000000    25.000000  2.000000         0.0   \n",
       "2014-03-15 00:10:00+00:00         3.103448    24.965517  2.034483         0.0   \n",
       "2014-03-15 00:13:20+00:00         3.000000    25.000000  2.333333         0.0   \n",
       "\n",
       "                           Electric space heater  \n",
       "Unix                                              \n",
       "2014-03-15 00:00:00+00:00               0.785714  \n",
       "2014-03-15 00:03:20+00:00               0.840000  \n",
       "2014-03-15 00:06:40+00:00               0.900000  \n",
       "2014-03-15 00:10:00+00:00               0.896552  \n",
       "2014-03-15 00:13:20+00:00               0.857143  "
      ]
     },
     "execution_count": 13,
     "metadata": {},
     "output_type": "execute_result"
    }
   ],
   "source": [
    "gt.head()"
   ]
  },
  {
   "cell_type": "code",
   "execution_count": 15,
   "id": "72d917c4-e399-4f89-bc61-fa3521e5faa5",
   "metadata": {},
   "outputs": [
    {
     "data": {
      "text/html": [
       "<div>\n",
       "<style scoped>\n",
       "    .dataframe tbody tr th:only-of-type {\n",
       "        vertical-align: middle;\n",
       "    }\n",
       "\n",
       "    .dataframe tbody tr th {\n",
       "        vertical-align: top;\n",
       "    }\n",
       "\n",
       "    .dataframe thead th {\n",
       "        text-align: right;\n",
       "    }\n",
       "</style>\n",
       "<table border=\"1\" class=\"dataframe\">\n",
       "  <thead>\n",
       "    <tr style=\"text-align: right;\">\n",
       "      <th></th>\n",
       "      <th>Fridge</th>\n",
       "      <th>Freezer</th>\n",
       "      <th>Freezer</th>\n",
       "      <th>Washer dryer</th>\n",
       "      <th>Washing machine</th>\n",
       "      <th>Dish washer</th>\n",
       "      <th>Computer</th>\n",
       "      <th>Television</th>\n",
       "      <th>Electric space heater</th>\n",
       "    </tr>\n",
       "    <tr>\n",
       "      <th>Unix</th>\n",
       "      <th></th>\n",
       "      <th></th>\n",
       "      <th></th>\n",
       "      <th></th>\n",
       "      <th></th>\n",
       "      <th></th>\n",
       "      <th></th>\n",
       "      <th></th>\n",
       "      <th></th>\n",
       "    </tr>\n",
       "  </thead>\n",
       "  <tbody>\n",
       "    <tr>\n",
       "      <th>2014-03-15 00:00:00+00:00</th>\n",
       "      <td>51.0</td>\n",
       "      <td>74.0</td>\n",
       "      <td>0.0</td>\n",
       "      <td>0.0</td>\n",
       "      <td>3.0</td>\n",
       "      <td>23.0</td>\n",
       "      <td>2.0</td>\n",
       "      <td>6.0</td>\n",
       "      <td>2.0</td>\n",
       "    </tr>\n",
       "    <tr>\n",
       "      <th>2014-03-15 00:03:20+00:00</th>\n",
       "      <td>51.0</td>\n",
       "      <td>0.0</td>\n",
       "      <td>0.0</td>\n",
       "      <td>0.0</td>\n",
       "      <td>3.0</td>\n",
       "      <td>63.0</td>\n",
       "      <td>2.0</td>\n",
       "      <td>6.0</td>\n",
       "      <td>2.0</td>\n",
       "    </tr>\n",
       "    <tr>\n",
       "      <th>2014-03-15 00:06:40+00:00</th>\n",
       "      <td>51.0</td>\n",
       "      <td>0.0</td>\n",
       "      <td>0.0</td>\n",
       "      <td>0.0</td>\n",
       "      <td>3.0</td>\n",
       "      <td>63.0</td>\n",
       "      <td>2.0</td>\n",
       "      <td>6.0</td>\n",
       "      <td>2.0</td>\n",
       "    </tr>\n",
       "    <tr>\n",
       "      <th>2014-03-15 00:10:00+00:00</th>\n",
       "      <td>51.0</td>\n",
       "      <td>0.0</td>\n",
       "      <td>0.0</td>\n",
       "      <td>0.0</td>\n",
       "      <td>3.0</td>\n",
       "      <td>63.0</td>\n",
       "      <td>2.0</td>\n",
       "      <td>6.0</td>\n",
       "      <td>2.0</td>\n",
       "    </tr>\n",
       "    <tr>\n",
       "      <th>2014-03-15 00:13:20+00:00</th>\n",
       "      <td>51.0</td>\n",
       "      <td>0.0</td>\n",
       "      <td>0.0</td>\n",
       "      <td>0.0</td>\n",
       "      <td>3.0</td>\n",
       "      <td>63.0</td>\n",
       "      <td>2.0</td>\n",
       "      <td>6.0</td>\n",
       "      <td>2.0</td>\n",
       "    </tr>\n",
       "  </tbody>\n",
       "</table>\n",
       "</div>"
      ],
      "text/plain": [
       "                           Fridge  Freezer  Freezer  Washer dryer  \\\n",
       "Unix                                                                \n",
       "2014-03-15 00:00:00+00:00    51.0     74.0      0.0           0.0   \n",
       "2014-03-15 00:03:20+00:00    51.0      0.0      0.0           0.0   \n",
       "2014-03-15 00:06:40+00:00    51.0      0.0      0.0           0.0   \n",
       "2014-03-15 00:10:00+00:00    51.0      0.0      0.0           0.0   \n",
       "2014-03-15 00:13:20+00:00    51.0      0.0      0.0           0.0   \n",
       "\n",
       "                           Washing machine  Dish washer  Computer  Television  \\\n",
       "Unix                                                                            \n",
       "2014-03-15 00:00:00+00:00              3.0         23.0       2.0         6.0   \n",
       "2014-03-15 00:03:20+00:00              3.0         63.0       2.0         6.0   \n",
       "2014-03-15 00:06:40+00:00              3.0         63.0       2.0         6.0   \n",
       "2014-03-15 00:10:00+00:00              3.0         63.0       2.0         6.0   \n",
       "2014-03-15 00:13:20+00:00              3.0         63.0       2.0         6.0   \n",
       "\n",
       "                           Electric space heater  \n",
       "Unix                                              \n",
       "2014-03-15 00:00:00+00:00                    2.0  \n",
       "2014-03-15 00:03:20+00:00                    2.0  \n",
       "2014-03-15 00:06:40+00:00                    2.0  \n",
       "2014-03-15 00:10:00+00:00                    2.0  \n",
       "2014-03-15 00:13:20+00:00                    2.0  "
      ]
     },
     "execution_count": 15,
     "metadata": {},
     "output_type": "execute_result"
    }
   ],
   "source": [
    "predictions['FHMM'].head()"
   ]
  },
  {
   "cell_type": "code",
   "execution_count": 16,
   "id": "ff0e8eec-2198-4312-88d4-382675172bc9",
   "metadata": {},
   "outputs": [],
   "source": [
    "def compute_rmse(gt, pred):\n",
    "    from sklearn.metrics import mean_squared_error\n",
    "    rms_error = {}\n",
    "    for appliance in gt.columns:\n",
    "        rms_error[appliance] = np.sqrt(mean_squared_error(gt[appliance], pred[appliance]))\n",
    "    return pd.Series(rms_error)"
   ]
  },
  {
   "cell_type": "code",
   "execution_count": 17,
   "id": "b2bf29b5-9db9-4dd0-9467-623c3092e98c",
   "metadata": {},
   "outputs": [
    {
     "data": {
      "text/html": [
       "<div>\n",
       "<style scoped>\n",
       "    .dataframe tbody tr th:only-of-type {\n",
       "        vertical-align: middle;\n",
       "    }\n",
       "\n",
       "    .dataframe tbody tr th {\n",
       "        vertical-align: top;\n",
       "    }\n",
       "\n",
       "    .dataframe thead th {\n",
       "        text-align: right;\n",
       "    }\n",
       "</style>\n",
       "<table border=\"1\" class=\"dataframe\">\n",
       "  <thead>\n",
       "    <tr style=\"text-align: right;\">\n",
       "      <th></th>\n",
       "      <th>FHMM</th>\n",
       "    </tr>\n",
       "  </thead>\n",
       "  <tbody>\n",
       "    <tr>\n",
       "      <th>Fridge</th>\n",
       "      <td>68.461575</td>\n",
       "    </tr>\n",
       "    <tr>\n",
       "      <th>Freezer</th>\n",
       "      <td>0.000000</td>\n",
       "    </tr>\n",
       "    <tr>\n",
       "      <th>Washer dryer</th>\n",
       "      <td>240.076609</td>\n",
       "    </tr>\n",
       "    <tr>\n",
       "      <th>Washing machine</th>\n",
       "      <td>33.653893</td>\n",
       "    </tr>\n",
       "    <tr>\n",
       "      <th>Dish washer</th>\n",
       "      <td>26.485481</td>\n",
       "    </tr>\n",
       "    <tr>\n",
       "      <th>Computer</th>\n",
       "      <td>0.222013</td>\n",
       "    </tr>\n",
       "    <tr>\n",
       "      <th>Television</th>\n",
       "      <td>66.025326</td>\n",
       "    </tr>\n",
       "    <tr>\n",
       "      <th>Electric space heater</th>\n",
       "      <td>10.155974</td>\n",
       "    </tr>\n",
       "  </tbody>\n",
       "</table>\n",
       "</div>"
      ],
      "text/plain": [
       "                             FHMM\n",
       "Fridge                  68.461575\n",
       "Freezer                  0.000000\n",
       "Washer dryer           240.076609\n",
       "Washing machine         33.653893\n",
       "Dish washer             26.485481\n",
       "Computer                 0.222013\n",
       "Television              66.025326\n",
       "Electric space heater   10.155974"
      ]
     },
     "execution_count": 17,
     "metadata": {},
     "output_type": "execute_result"
    }
   ],
   "source": [
    "rmse = {}\n",
    "for clf_name in classifiers.keys():\n",
    "    rmse[clf_name] = nilmtk.utils.compute_rmse(gt, predictions[clf_name])\n",
    "\n",
    "rmse = pd.DataFrame(rmse)\n",
    "rmse"
   ]
  },
  {
   "cell_type": "code",
   "execution_count": 19,
   "id": "db0f94bc-771f-4320-830e-24486124c58d",
   "metadata": {},
   "outputs": [
    {
     "data": {
      "text/plain": [
       "['refit_FHMM.h5']"
      ]
     },
     "execution_count": 19,
     "metadata": {},
     "output_type": "execute_result"
    }
   ],
   "source": [
    "import joblib\n",
    "\n",
    "joblib.dump(gt, 'refit_FHMM.h5')"
   ]
  },
  {
   "cell_type": "code",
   "execution_count": null,
   "id": "f9aeaf53-0276-4f5a-985f-ea66ab7329f2",
   "metadata": {},
   "outputs": [],
   "source": []
  }
 ],
 "metadata": {
  "kernelspec": {
   "display_name": "Python (nilmtk-env)",
   "language": "python",
   "name": "nilmtk-env"
  },
  "language_info": {
   "codemirror_mode": {
    "name": "ipython",
    "version": 3
   },
   "file_extension": ".py",
   "mimetype": "text/x-python",
   "name": "python",
   "nbconvert_exporter": "python",
   "pygments_lexer": "ipython3",
   "version": "3.8.19"
  }
 },
 "nbformat": 4,
 "nbformat_minor": 5
}
