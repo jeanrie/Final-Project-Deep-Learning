{
 "cells": [
  {
   "cell_type": "code",
   "execution_count": 5,
   "id": "eb518f4e-d2bf-47c6-9bae-340712833210",
   "metadata": {},
   "outputs": [],
   "source": [
    "from __future__ import print_function, division\n",
    "import time\n",
    "\n",
    "from matplotlib import rcParams\n",
    "import matplotlib.pyplot as plt\n",
    "import pandas as pd\n",
    "import numpy as np\n",
    "from six import iteritems\n",
    "\n",
    "from nilmtk import DataSet, TimeFrame, MeterGroup, HDFDataStore\n",
    "from nilmtk.legacy.disaggregate import CombinatorialOptimisation, FHMM\n",
    "import nilmtk.utils\n",
    "\n",
    "%matplotlib inline"
   ]
  },
  {
   "cell_type": "code",
   "execution_count": 6,
   "id": "2aaa9a3e-b24d-47f0-8ef4-953539216548",
   "metadata": {},
   "outputs": [],
   "source": [
    "#from nilmtk.dataset_converters import convert_refit\n",
    "#convert_refit(r\"C:\\Users\\jenic\\FINAL\\REFIT\", 'REFIT.h5')"
   ]
  },
  {
   "cell_type": "code",
   "execution_count": 7,
   "id": "b087308f-924f-4fd6-8aeb-df0969904d2d",
   "metadata": {},
   "outputs": [
    {
     "name": "stdout",
     "output_type": "stream",
     "text": [
      "Loading house 17... Using CLEAN filenames (CLEAN_HouseXX.csv)\n",
      "1 2 3 4 \n",
      "Loaded metadata\n"
     ]
    },
    {
     "ename": "AttributeError",
     "evalue": "'NoneType' object has no attribute '_v_attrs'",
     "output_type": "error",
     "traceback": [
      "\u001b[1;31m---------------------------------------------------------------------------\u001b[0m",
      "\u001b[1;31mAttributeError\u001b[0m                            Traceback (most recent call last)",
      "Cell \u001b[1;32mIn[7], line 2\u001b[0m\n\u001b[0;32m      1\u001b[0m \u001b[38;5;28;01mfrom\u001b[39;00m \u001b[38;5;21;01mnilmtk\u001b[39;00m\u001b[38;5;21;01m.\u001b[39;00m\u001b[38;5;21;01mdataset_converters\u001b[39;00m \u001b[38;5;28;01mimport\u001b[39;00m convert_refit\n\u001b[1;32m----> 2\u001b[0m \u001b[43mconvert_refit\u001b[49m\u001b[43m(\u001b[49m\u001b[38;5;124;43mr\u001b[39;49m\u001b[38;5;124;43m\"\u001b[39;49m\u001b[38;5;124;43mC:\u001b[39;49m\u001b[38;5;124;43m\\\u001b[39;49m\u001b[38;5;124;43mUsers\u001b[39;49m\u001b[38;5;124;43m\\\u001b[39;49m\u001b[38;5;124;43mjenic\u001b[39;49m\u001b[38;5;124;43m\\\u001b[39;49m\u001b[38;5;124;43mFINAL\u001b[39;49m\u001b[38;5;124;43m\\\u001b[39;49m\u001b[38;5;124;43mREFIT\u001b[39;49m\u001b[38;5;124;43m\"\u001b[39;49m\u001b[43m,\u001b[49m\u001b[43m \u001b[49m\u001b[38;5;124;43m'\u001b[39;49m\u001b[38;5;124;43mData.h5\u001b[39;49m\u001b[38;5;124;43m'\u001b[39;49m\u001b[43m)\u001b[49m\n",
      "File \u001b[1;32m~\\anaconda3\\envs\\nilmtk-env\\lib\\site-packages\\nilmtk\\dataset_converters\\refit\\convert_refit.py:53\u001b[0m, in \u001b[0;36mconvert_refit\u001b[1;34m(input_path, output_filename, format)\u001b[0m\n\u001b[0;32m     50\u001b[0m _convert(input_path, store, \u001b[38;5;124m'\u001b[39m\u001b[38;5;124mEurope/London\u001b[39m\u001b[38;5;124m'\u001b[39m)\n\u001b[0;32m     52\u001b[0m \u001b[38;5;66;03m# Add metadata\u001b[39;00m\n\u001b[1;32m---> 53\u001b[0m \u001b[43msave_yaml_to_datastore\u001b[49m\u001b[43m(\u001b[49m\u001b[43mjoin\u001b[49m\u001b[43m(\u001b[49m\u001b[43mget_module_directory\u001b[49m\u001b[43m(\u001b[49m\u001b[43m)\u001b[49m\u001b[43m,\u001b[49m\u001b[43m \u001b[49m\n\u001b[0;32m     54\u001b[0m \u001b[43m                          \u001b[49m\u001b[38;5;124;43m'\u001b[39;49m\u001b[38;5;124;43mdataset_converters\u001b[39;49m\u001b[38;5;124;43m'\u001b[39;49m\u001b[43m,\u001b[49m\u001b[43m \u001b[49m\n\u001b[0;32m     55\u001b[0m \u001b[43m                          \u001b[49m\u001b[38;5;124;43m'\u001b[39;49m\u001b[38;5;124;43mrefit\u001b[39;49m\u001b[38;5;124;43m'\u001b[39;49m\u001b[43m,\u001b[49m\u001b[43m \u001b[49m\n\u001b[0;32m     56\u001b[0m \u001b[43m                          \u001b[49m\u001b[38;5;124;43m'\u001b[39;49m\u001b[38;5;124;43mmetadata\u001b[39;49m\u001b[38;5;124;43m'\u001b[39;49m\u001b[43m)\u001b[49m\u001b[43m,\u001b[49m\n\u001b[0;32m     57\u001b[0m \u001b[43m                     \u001b[49m\u001b[43mstore\u001b[49m\u001b[43m)\u001b[49m\n\u001b[0;32m     58\u001b[0m store\u001b[38;5;241m.\u001b[39mclose()\n\u001b[0;32m     60\u001b[0m \u001b[38;5;28mprint\u001b[39m(\u001b[38;5;124m\"\u001b[39m\u001b[38;5;124mDone converting REFIT to HDF5!\u001b[39m\u001b[38;5;124m\"\u001b[39m)\n",
      "File \u001b[1;32m~\\anaconda3\\envs\\nilmtk-env\\nilm_metadata\\convert_yaml_to_hdf5.py:96\u001b[0m, in \u001b[0;36msave_yaml_to_datastore\u001b[1;34m(yaml_dir, store)\u001b[0m\n\u001b[0;32m     94\u001b[0m     _sanity_check_meters(elec_meters, meter_devices)\n\u001b[0;32m     95\u001b[0m     _sanity_check_appliances(building_metadata)\n\u001b[1;32m---> 96\u001b[0m     \u001b[43mstore\u001b[49m\u001b[38;5;241;43m.\u001b[39;49m\u001b[43msave_metadata\u001b[49m\u001b[43m(\u001b[49m\u001b[38;5;124;43m'\u001b[39;49m\u001b[38;5;124;43m/\u001b[39;49m\u001b[38;5;124;43m'\u001b[39;49m\u001b[38;5;241;43m+\u001b[39;49m\u001b[43mbuilding\u001b[49m\u001b[43m,\u001b[49m\u001b[43m \u001b[49m\u001b[43mbuilding_metadata\u001b[49m\u001b[43m)\u001b[49m\n\u001b[0;32m     98\u001b[0m store\u001b[38;5;241m.\u001b[39mclose()\n\u001b[0;32m     99\u001b[0m \u001b[38;5;28mprint\u001b[39m(\u001b[38;5;124m\"\u001b[39m\u001b[38;5;124mDone converting YAML metadata to HDF5!\u001b[39m\u001b[38;5;124m\"\u001b[39m)\n",
      "File \u001b[1;32m~\\anaconda3\\envs\\nilmtk-env\\lib\\site-packages\\nilmtk\\docinherit.py:53\u001b[0m, in \u001b[0;36mDocInherit.__get__.<locals>.f\u001b[1;34m(*args, **kwargs)\u001b[0m\n\u001b[0;32m     50\u001b[0m \u001b[38;5;129m@wraps\u001b[39m(\u001b[38;5;28mself\u001b[39m\u001b[38;5;241m.\u001b[39mmthd, assigned\u001b[38;5;241m=\u001b[39m(\u001b[38;5;124m'\u001b[39m\u001b[38;5;124m__name__\u001b[39m\u001b[38;5;124m'\u001b[39m, \u001b[38;5;124m'\u001b[39m\u001b[38;5;124m__module__\u001b[39m\u001b[38;5;124m'\u001b[39m))\n\u001b[0;32m     51\u001b[0m \u001b[38;5;28;01mdef\u001b[39;00m \u001b[38;5;21mf\u001b[39m(\u001b[38;5;241m*\u001b[39margs, \u001b[38;5;241m*\u001b[39m\u001b[38;5;241m*\u001b[39mkwargs):\n\u001b[0;32m     52\u001b[0m     \u001b[38;5;28;01mif\u001b[39;00m obj:\n\u001b[1;32m---> 53\u001b[0m         \u001b[38;5;28;01mreturn\u001b[39;00m \u001b[38;5;28;43mself\u001b[39;49m\u001b[38;5;241;43m.\u001b[39;49m\u001b[43mmthd\u001b[49m\u001b[43m(\u001b[49m\u001b[43mobj\u001b[49m\u001b[43m,\u001b[49m\u001b[43m \u001b[49m\u001b[38;5;241;43m*\u001b[39;49m\u001b[43margs\u001b[49m\u001b[43m,\u001b[49m\u001b[43m \u001b[49m\u001b[38;5;241;43m*\u001b[39;49m\u001b[38;5;241;43m*\u001b[39;49m\u001b[43mkwargs\u001b[49m\u001b[43m)\u001b[49m\n\u001b[0;32m     54\u001b[0m     \u001b[38;5;28;01melse\u001b[39;00m:\n\u001b[0;32m     55\u001b[0m         \u001b[38;5;28;01mreturn\u001b[39;00m \u001b[38;5;28mself\u001b[39m\u001b[38;5;241m.\u001b[39mmthd(\u001b[38;5;241m*\u001b[39margs, \u001b[38;5;241m*\u001b[39m\u001b[38;5;241m*\u001b[39mkwargs)\n",
      "File \u001b[1;32m~\\anaconda3\\envs\\nilmtk-env\\lib\\site-packages\\nilmtk\\datastore\\hdfdatastore.py:196\u001b[0m, in \u001b[0;36mHDFDataStore.save_metadata\u001b[1;34m(self, key, metadata)\u001b[0m\n\u001b[0;32m    193\u001b[0m \u001b[38;5;28;01melse\u001b[39;00m:\n\u001b[0;32m    194\u001b[0m     node \u001b[38;5;241m=\u001b[39m \u001b[38;5;28mself\u001b[39m\u001b[38;5;241m.\u001b[39mstore\u001b[38;5;241m.\u001b[39mget_node(key)\n\u001b[1;32m--> 196\u001b[0m \u001b[43mnode\u001b[49m\u001b[38;5;241;43m.\u001b[39;49m\u001b[43m_v_attrs\u001b[49m\u001b[38;5;241m.\u001b[39mmetadata \u001b[38;5;241m=\u001b[39m metadata\n\u001b[0;32m    197\u001b[0m \u001b[38;5;28mself\u001b[39m\u001b[38;5;241m.\u001b[39mstore\u001b[38;5;241m.\u001b[39mflush()\n",
      "\u001b[1;31mAttributeError\u001b[0m: 'NoneType' object has no attribute '_v_attrs'"
     ]
    }
   ],
   "source": [
    "from nilmtk.dataset_converters import convert_refit\n",
    "convert_refit(r\"C:\\Users\\jenic\\FINAL\\REFIT\", 'Data.h5')"
   ]
  },
  {
   "cell_type": "code",
   "execution_count": 8,
   "id": "058d63a5-b0ba-4c59-8432-d5e532cde8d8",
   "metadata": {},
   "outputs": [
    {
     "name": "stderr",
     "output_type": "stream",
     "text": [
      "Closing remaining open files:C:\\Users\\jenic\\AppData\\Local\\Temp\\nilmtk-qb38e4wg.h5...doneData.h5...done\n"
     ]
    }
   ],
   "source": [
    "train = DataSet(r\"C:\\Users\\jenic\\Data.h5\")\n",
    "test = DataSet(r\"C:\\Users\\jenic\\Data.h5\")"
   ]
  },
  {
   "cell_type": "code",
   "execution_count": 5,
   "id": "bbb8fe96-25d3-4388-9d4f-97d0ef0ea013",
   "metadata": {},
   "outputs": [],
   "source": [
    "building = 17"
   ]
  },
  {
   "cell_type": "code",
   "execution_count": 6,
   "id": "71185a5a-dfac-4898-b4aa-815a9c380211",
   "metadata": {},
   "outputs": [
    {
     "name": "stdout",
     "output_type": "stream",
     "text": [
      "MeterGroup(meters=\n",
      "  ElecMeter(instance=1, building=1, dataset='REFIT', site_meter, appliances=[])\n",
      "  ElecMeter(instance=2, building=1, dataset='REFIT', appliances=[Appliance(type='fridge', instance=1)])\n",
      "  ElecMeter(instance=3, building=1, dataset='REFIT', appliances=[Appliance(type='freezer', instance=1)])\n",
      "  ElecMeter(instance=4, building=1, dataset='REFIT', appliances=[Appliance(type='freezer', instance=2)])\n",
      "  ElecMeter(instance=5, building=1, dataset='REFIT', appliances=[Appliance(type='washer dryer', instance=1)])\n",
      "  ElecMeter(instance=6, building=1, dataset='REFIT', appliances=[Appliance(type='washing machine', instance=1)])\n",
      "  ElecMeter(instance=7, building=1, dataset='REFIT', appliances=[Appliance(type='dish washer', instance=1)])\n",
      "  ElecMeter(instance=8, building=1, dataset='REFIT', appliances=[Appliance(type='computer', instance=1)])\n",
      "  ElecMeter(instance=9, building=1, dataset='REFIT', appliances=[Appliance(type='television', instance=1)])\n",
      "  ElecMeter(instance=10, building=1, dataset='REFIT', appliances=[Appliance(type='electric space heater', instance=1)])\n",
      ")\n"
     ]
    },
    {
     "name": "stderr",
     "output_type": "stream",
     "text": [
      "C:\\Users\\jenic\\anaconda3\\envs\\nilmtk-env\\lib\\site-packages\\pandas\\plotting\\_matplotlib\\converter.py:103: FutureWarning: Using an implicitly registered datetime converter for a matplotlib plotting method. The converter was registered by pandas on import. Future versions of pandas will require you to explicitly register matplotlib converters.\n",
      "\n",
      "To register the converters:\n",
      "\t>>> from pandas.plotting import register_matplotlib_converters\n",
      "\t>>> register_matplotlib_converters()\n",
      "  warnings.warn(msg, FutureWarning)\n"
     ]
    },
    {
     "data": {
      "text/plain": [
       "[<matplotlib.lines.Line2D at 0x235e62507c0>]"
      ]
     },
     "execution_count": 6,
     "metadata": {},
     "output_type": "execute_result"
    },
    {
     "data": {
      "image/png": "[encoded data removed]",
      "text/plain": [
       "<Figure size 640x480 with 1 Axes>"
      ]
     },
     "metadata": {},
     "output_type": "display_data"
    }
   ],
   "source": [
    "import matplotlib.pyplot as plt\n",
    "from nilmtk import DataSet\n",
    "%matplotlib inline\n",
    "\n",
    "train_elec = train.buildings[1].elec\n",
    "\n",
    "print(train_elec)\n",
    "plt.plot(train_elec[1].power_series_all_data())"
   ]
  },
  {
   "cell_type": "code",
   "execution_count": 7,
   "id": "89fca865-58b0-4031-80d0-770e536dd8d1",
   "metadata": {},
   "outputs": [],
   "source": [
    "train.set_window(start='2014-03-15',end='2015-03-16')\n",
    "train_elec = train.buildings[1].elec\n",
    "\n",
    "test.set_window(start='2014-03-15',end='2015-03-16')\n",
    "test_elec = test.buildings[1].elec"
   ]
  },
  {
   "cell_type": "code",
   "execution_count": 8,
   "id": "f7712b83-9d5a-4023-bc79-92351f72d498",
   "metadata": {},
   "outputs": [],
   "source": [
    "mains=train_elec.mains()\n",
    "submeters=train_elec.submeters()"
   ]
  },
  {
   "cell_type": "code",
   "execution_count": 9,
   "id": "aff3d722-47d8-44c2-bc5a-36e128508e7d",
   "metadata": {},
   "outputs": [
    {
     "data": {
      "text/plain": [
       "['active']"
      ]
     },
     "execution_count": 9,
     "metadata": {},
     "output_type": "execute_result"
    }
   ],
   "source": [
    "mains.available_ac_types('power')"
   ]
  },
  {
   "cell_type": "code",
   "execution_count": 10,
   "id": "d606dad9-1f62-44c7-91a5-d74976954234",
   "metadata": {},
   "outputs": [
    {
     "data": {
      "text/plain": [
       "['active']"
      ]
     },
     "execution_count": 10,
     "metadata": {},
     "output_type": "execute_result"
    }
   ],
   "source": [
    "submeters.available_ac_types('power')"
   ]
  },
  {
   "cell_type": "code",
   "execution_count": 11,
   "id": "43c989ac-1720-465e-8a6c-0fcfea13ddac",
   "metadata": {},
   "outputs": [],
   "source": [
    "def predict(clf, test_elec, sample_period, timezone):\n",
    "    pred = {}\n",
    "    gt= {}\n",
    "    \n",
    "    # \"ac_type\" varies according to the dataset used. \n",
    "    # Make sure to use the correct ac_type before using the default parameters in this code.    \n",
    "    for i, chunk in enumerate(test_elec.mains().load(physical_quantity = 'power', ac_type = 'active', sample_period=sample_period)):\n",
    "        chunk_drop_na = chunk.dropna()\n",
    "        pred[i] = clf.disaggregate_chunk(chunk_drop_na)\n",
    "        gt[i]={}\n",
    "\n",
    "        for meter in test_elec.submeters().meters:\n",
    "            # Only use the meters that we trained on (this saves time!)    \n",
    "            gt[i][meter] = next(meter.load(physical_quantity = 'power', ac_type = 'active', sample_period=sample_period))\n",
    "        gt[i] = pd.DataFrame({k:v.squeeze() for k,v in iteritems(gt[i]) if len(v)}, index=next(iter(gt[i].values())).index).dropna()\n",
    "        \n",
    "    # If everything can fit in memory\n",
    "    gt_overall = pd.concat(gt)\n",
    "    gt_overall.index = gt_overall.index.droplevel()\n",
    "    pred_overall = pd.concat(pred)\n",
    "    pred_overall.index = pred_overall.index.droplevel()\n",
    "\n",
    "    # Having the same order of columns\n",
    "    gt_overall = gt_overall[pred_overall.columns]\n",
    "    \n",
    "    #Intersection of index\n",
    "    gt_index_utc = gt_overall.index.tz_convert(\"UTC\")\n",
    "    pred_index_utc = pred_overall.index.tz_convert(\"UTC\")\n",
    "    common_index_utc = gt_index_utc.intersection(pred_index_utc)\n",
    "    \n",
    "    common_index_local = common_index_utc.tz_convert(timezone)\n",
    "    gt_overall = gt_overall.loc[common_index_local]\n",
    "    pred_overall = pred_overall.loc[common_index_local]\n",
    "    appliance_labels = [m for m in gt_overall.columns.values]\n",
    "    gt_overall.columns = appliance_labels\n",
    "    pred_overall.columns = appliance_labels\n",
    "    return gt_overall, pred_overall"
   ]
  },
  {
   "cell_type": "markdown",
   "id": "4ced8ea9-d1ce-4959-8e65-f8eb63fcb7be",
   "metadata": {},
   "source": [
    "CO"
   ]
  },
  {
   "cell_type": "code",
   "execution_count": 12,
   "id": "9c53e85f-7439-4e14-a6ce-5e5609c66621",
   "metadata": {},
   "outputs": [
    {
     "name": "stdout",
     "output_type": "stream",
     "text": [
      "CO\n",
      "Training model for submeter 'ElecMeter(instance=2, building=1, dataset='REFIT', appliances=[Appliance(type='fridge', instance=1)])'\n"
     ]
    },
    {
     "name": "stderr",
     "output_type": "stream",
     "text": [
      "C:\\Users\\jenic\\anaconda3\\envs\\nilmtk-env\\lib\\site-packages\\sklearn\\cluster\\_kmeans.py:1334: UserWarning: KMeans is known to have a memory leak on Windows with MKL, when there are less chunks than available threads. You can avoid it by setting the environment variable OMP_NUM_THREADS=8.\n",
      "  warnings.warn(\n",
      "C:\\Users\\jenic\\anaconda3\\envs\\nilmtk-env\\lib\\site-packages\\sklearn\\cluster\\_kmeans.py:1334: UserWarning: KMeans is known to have a memory leak on Windows with MKL, when there are less chunks than available threads. You can avoid it by setting the environment variable OMP_NUM_THREADS=8.\n",
      "  warnings.warn(\n"
     ]
    },
    {
     "name": "stdout",
     "output_type": "stream",
     "text": [
      "Training model for submeter 'ElecMeter(instance=3, building=1, dataset='REFIT', appliances=[Appliance(type='freezer', instance=1)])'\n"
     ]
    },
    {
     "name": "stderr",
     "output_type": "stream",
     "text": [
      "C:\\Users\\jenic\\anaconda3\\envs\\nilmtk-env\\lib\\site-packages\\sklearn\\cluster\\_kmeans.py:1334: UserWarning: KMeans is known to have a memory leak on Windows with MKL, when there are less chunks than available threads. You can avoid it by setting the environment variable OMP_NUM_THREADS=8.\n",
      "  warnings.warn(\n",
      "C:\\Users\\jenic\\anaconda3\\envs\\nilmtk-env\\lib\\site-packages\\sklearn\\cluster\\_kmeans.py:1334: UserWarning: KMeans is known to have a memory leak on Windows with MKL, when there are less chunks than available threads. You can avoid it by setting the environment variable OMP_NUM_THREADS=8.\n",
      "  warnings.warn(\n"
     ]
    },
    {
     "name": "stdout",
     "output_type": "stream",
     "text": [
      "Training model for submeter 'ElecMeter(instance=4, building=1, dataset='REFIT', appliances=[Appliance(type='freezer', instance=2)])'\n"
     ]
    },
    {
     "name": "stderr",
     "output_type": "stream",
     "text": [
      "C:\\Users\\jenic\\anaconda3\\envs\\nilmtk-env\\lib\\site-packages\\sklearn\\cluster\\_kmeans.py:1334: UserWarning: KMeans is known to have a memory leak on Windows with MKL, when there are less chunks than available threads. You can avoid it by setting the environment variable OMP_NUM_THREADS=3.\n",
      "  warnings.warn(\n",
      "C:\\Users\\jenic\\anaconda3\\envs\\nilmtk-env\\lib\\site-packages\\sklearn\\cluster\\_kmeans.py:1334: UserWarning: KMeans is known to have a memory leak on Windows with MKL, when there are less chunks than available threads. You can avoid it by setting the environment variable OMP_NUM_THREADS=3.\n",
      "  warnings.warn(\n"
     ]
    },
    {
     "name": "stdout",
     "output_type": "stream",
     "text": [
      "Training model for submeter 'ElecMeter(instance=5, building=1, dataset='REFIT', appliances=[Appliance(type='washer dryer', instance=1)])'\n"
     ]
    },
    {
     "name": "stderr",
     "output_type": "stream",
     "text": [
      "C:\\Users\\jenic\\anaconda3\\envs\\nilmtk-env\\lib\\site-packages\\sklearn\\cluster\\_kmeans.py:1334: UserWarning: KMeans is known to have a memory leak on Windows with MKL, when there are less chunks than available threads. You can avoid it by setting the environment variable OMP_NUM_THREADS=8.\n",
      "  warnings.warn(\n",
      "C:\\Users\\jenic\\anaconda3\\envs\\nilmtk-env\\lib\\site-packages\\sklearn\\cluster\\_kmeans.py:1334: UserWarning: KMeans is known to have a memory leak on Windows with MKL, when there are less chunks than available threads. You can avoid it by setting the environment variable OMP_NUM_THREADS=8.\n",
      "  warnings.warn(\n"
     ]
    },
    {
     "name": "stdout",
     "output_type": "stream",
     "text": [
      "Training model for submeter 'ElecMeter(instance=6, building=1, dataset='REFIT', appliances=[Appliance(type='washing machine', instance=1)])'\n"
     ]
    },
    {
     "name": "stderr",
     "output_type": "stream",
     "text": [
      "C:\\Users\\jenic\\anaconda3\\envs\\nilmtk-env\\lib\\site-packages\\sklearn\\cluster\\_kmeans.py:1334: UserWarning: KMeans is known to have a memory leak on Windows with MKL, when there are less chunks than available threads. You can avoid it by setting the environment variable OMP_NUM_THREADS=8.\n",
      "  warnings.warn(\n",
      "C:\\Users\\jenic\\anaconda3\\envs\\nilmtk-env\\lib\\site-packages\\sklearn\\cluster\\_kmeans.py:1334: UserWarning: KMeans is known to have a memory leak on Windows with MKL, when there are less chunks than available threads. You can avoid it by setting the environment variable OMP_NUM_THREADS=8.\n",
      "  warnings.warn(\n"
     ]
    },
    {
     "name": "stdout",
     "output_type": "stream",
     "text": [
      "Training model for submeter 'ElecMeter(instance=7, building=1, dataset='REFIT', appliances=[Appliance(type='dish washer', instance=1)])'\n"
     ]
    },
    {
     "name": "stderr",
     "output_type": "stream",
     "text": [
      "C:\\Users\\jenic\\anaconda3\\envs\\nilmtk-env\\lib\\site-packages\\sklearn\\cluster\\_kmeans.py:1334: UserWarning: KMeans is known to have a memory leak on Windows with MKL, when there are less chunks than available threads. You can avoid it by setting the environment variable OMP_NUM_THREADS=8.\n",
      "  warnings.warn(\n",
      "C:\\Users\\jenic\\anaconda3\\envs\\nilmtk-env\\lib\\site-packages\\sklearn\\cluster\\_kmeans.py:1334: UserWarning: KMeans is known to have a memory leak on Windows with MKL, when there are less chunks than available threads. You can avoid it by setting the environment variable OMP_NUM_THREADS=8.\n",
      "  warnings.warn(\n"
     ]
    },
    {
     "name": "stdout",
     "output_type": "stream",
     "text": [
      "Training model for submeter 'ElecMeter(instance=8, building=1, dataset='REFIT', appliances=[Appliance(type='computer', instance=1)])'\n"
     ]
    },
    {
     "name": "stderr",
     "output_type": "stream",
     "text": [
      "C:\\Users\\jenic\\anaconda3\\envs\\nilmtk-env\\lib\\site-packages\\sklearn\\cluster\\_kmeans.py:1334: UserWarning: KMeans is known to have a memory leak on Windows with MKL, when there are less chunks than available threads. You can avoid it by setting the environment variable OMP_NUM_THREADS=6.\n",
      "  warnings.warn(\n",
      "C:\\Users\\jenic\\anaconda3\\envs\\nilmtk-env\\lib\\site-packages\\sklearn\\cluster\\_kmeans.py:1334: UserWarning: KMeans is known to have a memory leak on Windows with MKL, when there are less chunks than available threads. You can avoid it by setting the environment variable OMP_NUM_THREADS=6.\n",
      "  warnings.warn(\n"
     ]
    },
    {
     "name": "stdout",
     "output_type": "stream",
     "text": [
      "Training model for submeter 'ElecMeter(instance=9, building=1, dataset='REFIT', appliances=[Appliance(type='television', instance=1)])'\n"
     ]
    },
    {
     "name": "stderr",
     "output_type": "stream",
     "text": [
      "C:\\Users\\jenic\\anaconda3\\envs\\nilmtk-env\\lib\\site-packages\\sklearn\\cluster\\_kmeans.py:1334: UserWarning: KMeans is known to have a memory leak on Windows with MKL, when there are less chunks than available threads. You can avoid it by setting the environment variable OMP_NUM_THREADS=8.\n",
      "  warnings.warn(\n",
      "C:\\Users\\jenic\\anaconda3\\envs\\nilmtk-env\\lib\\site-packages\\sklearn\\cluster\\_kmeans.py:1334: UserWarning: KMeans is known to have a memory leak on Windows with MKL, when there are less chunks than available threads. You can avoid it by setting the environment variable OMP_NUM_THREADS=8.\n",
      "  warnings.warn(\n"
     ]
    },
    {
     "name": "stdout",
     "output_type": "stream",
     "text": [
      "Training model for submeter 'ElecMeter(instance=10, building=1, dataset='REFIT', appliances=[Appliance(type='electric space heater', instance=1)])'\n"
     ]
    },
    {
     "name": "stderr",
     "output_type": "stream",
     "text": [
      "C:\\Users\\jenic\\anaconda3\\envs\\nilmtk-env\\lib\\site-packages\\sklearn\\cluster\\_kmeans.py:1334: UserWarning: KMeans is known to have a memory leak on Windows with MKL, when there are less chunks than available threads. You can avoid it by setting the environment variable OMP_NUM_THREADS=4.\n",
      "  warnings.warn(\n",
      "C:\\Users\\jenic\\anaconda3\\envs\\nilmtk-env\\lib\\site-packages\\sklearn\\cluster\\_kmeans.py:1334: UserWarning: KMeans is known to have a memory leak on Windows with MKL, when there are less chunks than available threads. You can avoid it by setting the environment variable OMP_NUM_THREADS=4.\n",
      "  warnings.warn(\n"
     ]
    },
    {
     "name": "stdout",
     "output_type": "stream",
     "text": [
      "Done training!\n",
      "Runtime = 32.3512978553772 seconds.\n",
      "Estimating power demand for 'ElecMeter(instance=2, building=1, dataset='REFIT', appliances=[Appliance(type='fridge', instance=1)])'\n",
      "Estimating power demand for 'ElecMeter(instance=3, building=1, dataset='REFIT', appliances=[Appliance(type='freezer', instance=1)])'\n",
      "Estimating power demand for 'ElecMeter(instance=4, building=1, dataset='REFIT', appliances=[Appliance(type='freezer', instance=2)])'\n",
      "Estimating power demand for 'ElecMeter(instance=5, building=1, dataset='REFIT', appliances=[Appliance(type='washer dryer', instance=1)])'\n",
      "Estimating power demand for 'ElecMeter(instance=6, building=1, dataset='REFIT', appliances=[Appliance(type='washing machine', instance=1)])'\n",
      "Estimating power demand for 'ElecMeter(instance=7, building=1, dataset='REFIT', appliances=[Appliance(type='dish washer', instance=1)])'\n",
      "Estimating power demand for 'ElecMeter(instance=8, building=1, dataset='REFIT', appliances=[Appliance(type='computer', instance=1)])'\n",
      "Estimating power demand for 'ElecMeter(instance=9, building=1, dataset='REFIT', appliances=[Appliance(type='television', instance=1)])'\n",
      "Estimating power demand for 'ElecMeter(instance=10, building=1, dataset='REFIT', appliances=[Appliance(type='electric space heater', instance=1)])'\n"
     ]
    }
   ],
   "source": [
    "classifiers = {'CO':CombinatorialOptimisation()}#, 'FHMM':FHMM()}\n",
    "predictions = {}\n",
    "sample_period = 200\n",
    "for clf_name, clf in classifiers.items():\n",
    "    print(clf_name)\n",
    "    start = time.time()\n",
    "    # Note that we have given the sample period to downsample the data to 1 minute. \n",
    "    # If instead of top_5 we wanted to train on all appliance, we would write \n",
    "    # fhmm.train(train_elec, sample_period=60)\n",
    "    clf.train(train_elec, sample_period=sample_period)\n",
    "    end = time.time()\n",
    "    print(\"Runtime =\", end-start, \"seconds.\")\n",
    "    gt, predictions[clf_name] = predict(clf, test_elec, sample_period, train.metadata['timezone'])"
   ]
  },
  {
   "cell_type": "code",
   "execution_count": 13,
   "id": "0a9da54b-889f-4179-b4a7-023955b81891",
   "metadata": {},
   "outputs": [],
   "source": [
    "appliance_labels = [m.label() for m in gt.columns.values]"
   ]
  },
  {
   "cell_type": "code",
   "execution_count": 14,
   "id": "ad4b721a-d233-45c4-b931-884d3ab2d47b",
   "metadata": {},
   "outputs": [],
   "source": [
    "gt.columns = appliance_labels\n",
    "predictions['CO'].columns = appliance_labels"
   ]
  },
  {
   "cell_type": "code",
   "execution_count": 15,
   "id": "7167bd54-2069-4389-9980-22b149bacaf3",
   "metadata": {},
   "outputs": [
    {
     "data": {
      "text/html": [
       "<div>\n",
       "<style scoped>\n",
       "    .dataframe tbody tr th:only-of-type {\n",
       "        vertical-align: middle;\n",
       "    }\n",
       "\n",
       "    .dataframe tbody tr th {\n",
       "        vertical-align: top;\n",
       "    }\n",
       "\n",
       "    .dataframe thead th {\n",
       "        text-align: right;\n",
       "    }\n",
       "</style>\n",
       "<table border=\"1\" class=\"dataframe\">\n",
       "  <thead>\n",
       "    <tr style=\"text-align: right;\">\n",
       "      <th></th>\n",
       "      <th>Fridge</th>\n",
       "      <th>Freezer</th>\n",
       "      <th>Freezer</th>\n",
       "      <th>Washer dryer</th>\n",
       "      <th>Washing machine</th>\n",
       "      <th>Dish washer</th>\n",
       "      <th>Computer</th>\n",
       "      <th>Television</th>\n",
       "      <th>Electric space heater</th>\n",
       "    </tr>\n",
       "    <tr>\n",
       "      <th>Unix</th>\n",
       "      <th></th>\n",
       "      <th></th>\n",
       "      <th></th>\n",
       "      <th></th>\n",
       "      <th></th>\n",
       "      <th></th>\n",
       "      <th></th>\n",
       "      <th></th>\n",
       "      <th></th>\n",
       "    </tr>\n",
       "  </thead>\n",
       "  <tbody>\n",
       "    <tr>\n",
       "      <th>2014-03-15 00:00:00+00:00</th>\n",
       "      <td>0.0</td>\n",
       "      <td>79.107143</td>\n",
       "      <td>0.0</td>\n",
       "      <td>0.0</td>\n",
       "      <td>3.000000</td>\n",
       "      <td>25.142857</td>\n",
       "      <td>2.142857</td>\n",
       "      <td>0.0</td>\n",
       "      <td>0.785714</td>\n",
       "    </tr>\n",
       "    <tr>\n",
       "      <th>2014-03-15 00:03:20+00:00</th>\n",
       "      <td>0.0</td>\n",
       "      <td>77.440000</td>\n",
       "      <td>0.0</td>\n",
       "      <td>0.0</td>\n",
       "      <td>3.040000</td>\n",
       "      <td>25.160000</td>\n",
       "      <td>2.040000</td>\n",
       "      <td>0.0</td>\n",
       "      <td>0.840000</td>\n",
       "    </tr>\n",
       "    <tr>\n",
       "      <th>2014-03-15 00:06:40+00:00</th>\n",
       "      <td>0.0</td>\n",
       "      <td>76.450000</td>\n",
       "      <td>0.0</td>\n",
       "      <td>0.0</td>\n",
       "      <td>3.000000</td>\n",
       "      <td>25.000000</td>\n",
       "      <td>2.000000</td>\n",
       "      <td>0.0</td>\n",
       "      <td>0.900000</td>\n",
       "    </tr>\n",
       "    <tr>\n",
       "      <th>2014-03-15 00:10:00+00:00</th>\n",
       "      <td>0.0</td>\n",
       "      <td>75.413793</td>\n",
       "      <td>0.0</td>\n",
       "      <td>0.0</td>\n",
       "      <td>3.103448</td>\n",
       "      <td>24.965517</td>\n",
       "      <td>2.034483</td>\n",
       "      <td>0.0</td>\n",
       "      <td>0.896552</td>\n",
       "    </tr>\n",
       "    <tr>\n",
       "      <th>2014-03-15 00:13:20+00:00</th>\n",
       "      <td>0.0</td>\n",
       "      <td>74.904762</td>\n",
       "      <td>0.0</td>\n",
       "      <td>0.0</td>\n",
       "      <td>3.000000</td>\n",
       "      <td>25.000000</td>\n",
       "      <td>2.333333</td>\n",
       "      <td>0.0</td>\n",
       "      <td>0.857143</td>\n",
       "    </tr>\n",
       "  </tbody>\n",
       "</table>\n",
       "</div>"
      ],
      "text/plain": [
       "                           Fridge    Freezer  Freezer  Washer dryer  \\\n",
       "Unix                                                                  \n",
       "2014-03-15 00:00:00+00:00     0.0  79.107143      0.0           0.0   \n",
       "2014-03-15 00:03:20+00:00     0.0  77.440000      0.0           0.0   \n",
       "2014-03-15 00:06:40+00:00     0.0  76.450000      0.0           0.0   \n",
       "2014-03-15 00:10:00+00:00     0.0  75.413793      0.0           0.0   \n",
       "2014-03-15 00:13:20+00:00     0.0  74.904762      0.0           0.0   \n",
       "\n",
       "                           Washing machine  Dish washer  Computer  Television  \\\n",
       "Unix                                                                            \n",
       "2014-03-15 00:00:00+00:00         3.000000    25.142857  2.142857         0.0   \n",
       "2014-03-15 00:03:20+00:00         3.040000    25.160000  2.040000         0.0   \n",
       "2014-03-15 00:06:40+00:00         3.000000    25.000000  2.000000         0.0   \n",
       "2014-03-15 00:10:00+00:00         3.103448    24.965517  2.034483         0.0   \n",
       "2014-03-15 00:13:20+00:00         3.000000    25.000000  2.333333         0.0   \n",
       "\n",
       "                           Electric space heater  \n",
       "Unix                                              \n",
       "2014-03-15 00:00:00+00:00               0.785714  \n",
       "2014-03-15 00:03:20+00:00               0.840000  \n",
       "2014-03-15 00:06:40+00:00               0.900000  \n",
       "2014-03-15 00:10:00+00:00               0.896552  \n",
       "2014-03-15 00:13:20+00:00               0.857143  "
      ]
     },
     "execution_count": 15,
     "metadata": {},
     "output_type": "execute_result"
    }
   ],
   "source": [
    "gt.head()"
   ]
  },
  {
   "cell_type": "code",
   "execution_count": 16,
   "id": "7826f473-e2ff-400e-bef5-46bbaab1024d",
   "metadata": {},
   "outputs": [
    {
     "data": {
      "text/html": [
       "<div>\n",
       "<style scoped>\n",
       "    .dataframe tbody tr th:only-of-type {\n",
       "        vertical-align: middle;\n",
       "    }\n",
       "\n",
       "    .dataframe tbody tr th {\n",
       "        vertical-align: top;\n",
       "    }\n",
       "\n",
       "    .dataframe thead th {\n",
       "        text-align: right;\n",
       "    }\n",
       "</style>\n",
       "<table border=\"1\" class=\"dataframe\">\n",
       "  <thead>\n",
       "    <tr style=\"text-align: right;\">\n",
       "      <th></th>\n",
       "      <th>Fridge</th>\n",
       "      <th>Freezer</th>\n",
       "      <th>Freezer</th>\n",
       "      <th>Washer dryer</th>\n",
       "      <th>Washing machine</th>\n",
       "      <th>Dish washer</th>\n",
       "      <th>Computer</th>\n",
       "      <th>Television</th>\n",
       "      <th>Electric space heater</th>\n",
       "    </tr>\n",
       "    <tr>\n",
       "      <th>Unix</th>\n",
       "      <th></th>\n",
       "      <th></th>\n",
       "      <th></th>\n",
       "      <th></th>\n",
       "      <th></th>\n",
       "      <th></th>\n",
       "      <th></th>\n",
       "      <th></th>\n",
       "      <th></th>\n",
       "    </tr>\n",
       "  </thead>\n",
       "  <tbody>\n",
       "    <tr>\n",
       "      <th>2014-03-15 00:00:00+00:00</th>\n",
       "      <td>0.0</td>\n",
       "      <td>79.0</td>\n",
       "      <td>0.0</td>\n",
       "      <td>0.0</td>\n",
       "      <td>0.0</td>\n",
       "      <td>55.0</td>\n",
       "      <td>0.0</td>\n",
       "      <td>0.0</td>\n",
       "      <td>0.0</td>\n",
       "    </tr>\n",
       "    <tr>\n",
       "      <th>2014-03-15 00:03:20+00:00</th>\n",
       "      <td>56.0</td>\n",
       "      <td>33.0</td>\n",
       "      <td>0.0</td>\n",
       "      <td>0.0</td>\n",
       "      <td>0.0</td>\n",
       "      <td>0.0</td>\n",
       "      <td>0.0</td>\n",
       "      <td>0.0</td>\n",
       "      <td>43.0</td>\n",
       "    </tr>\n",
       "    <tr>\n",
       "      <th>2014-03-15 00:06:40+00:00</th>\n",
       "      <td>0.0</td>\n",
       "      <td>33.0</td>\n",
       "      <td>0.0</td>\n",
       "      <td>0.0</td>\n",
       "      <td>0.0</td>\n",
       "      <td>55.0</td>\n",
       "      <td>0.0</td>\n",
       "      <td>0.0</td>\n",
       "      <td>43.0</td>\n",
       "    </tr>\n",
       "    <tr>\n",
       "      <th>2014-03-15 00:10:00+00:00</th>\n",
       "      <td>0.0</td>\n",
       "      <td>79.0</td>\n",
       "      <td>0.0</td>\n",
       "      <td>0.0</td>\n",
       "      <td>51.0</td>\n",
       "      <td>0.0</td>\n",
       "      <td>0.0</td>\n",
       "      <td>0.0</td>\n",
       "      <td>0.0</td>\n",
       "    </tr>\n",
       "    <tr>\n",
       "      <th>2014-03-15 00:13:20+00:00</th>\n",
       "      <td>0.0</td>\n",
       "      <td>79.0</td>\n",
       "      <td>0.0</td>\n",
       "      <td>0.0</td>\n",
       "      <td>51.0</td>\n",
       "      <td>0.0</td>\n",
       "      <td>0.0</td>\n",
       "      <td>0.0</td>\n",
       "      <td>0.0</td>\n",
       "    </tr>\n",
       "  </tbody>\n",
       "</table>\n",
       "</div>"
      ],
      "text/plain": [
       "                           Fridge  Freezer  Freezer  Washer dryer  \\\n",
       "Unix                                                                \n",
       "2014-03-15 00:00:00+00:00     0.0     79.0      0.0           0.0   \n",
       "2014-03-15 00:03:20+00:00    56.0     33.0      0.0           0.0   \n",
       "2014-03-15 00:06:40+00:00     0.0     33.0      0.0           0.0   \n",
       "2014-03-15 00:10:00+00:00     0.0     79.0      0.0           0.0   \n",
       "2014-03-15 00:13:20+00:00     0.0     79.0      0.0           0.0   \n",
       "\n",
       "                           Washing machine  Dish washer  Computer  Television  \\\n",
       "Unix                                                                            \n",
       "2014-03-15 00:00:00+00:00              0.0         55.0       0.0         0.0   \n",
       "2014-03-15 00:03:20+00:00              0.0          0.0       0.0         0.0   \n",
       "2014-03-15 00:06:40+00:00              0.0         55.0       0.0         0.0   \n",
       "2014-03-15 00:10:00+00:00             51.0          0.0       0.0         0.0   \n",
       "2014-03-15 00:13:20+00:00             51.0          0.0       0.0         0.0   \n",
       "\n",
       "                           Electric space heater  \n",
       "Unix                                              \n",
       "2014-03-15 00:00:00+00:00                    0.0  \n",
       "2014-03-15 00:03:20+00:00                   43.0  \n",
       "2014-03-15 00:06:40+00:00                   43.0  \n",
       "2014-03-15 00:10:00+00:00                    0.0  \n",
       "2014-03-15 00:13:20+00:00                    0.0  "
      ]
     },
     "execution_count": 16,
     "metadata": {},
     "output_type": "execute_result"
    }
   ],
   "source": [
    "predictions['CO'].head()"
   ]
  },
  {
   "cell_type": "code",
   "execution_count": 20,
   "id": "46616b4d-3169-425e-9886-6495a47f9e8c",
   "metadata": {},
   "outputs": [],
   "source": [
    "def compute_rmse(gt, pred):\n",
    "    from sklearn.metrics import mean_squared_error\n",
    "    rms_error = {}\n",
    "    for appliance in gt.columns:\n",
    "        rms_error[appliance] = np.sqrt(mean_squared_error(gt[appliance], pred[appliance]))\n",
    "    return pd.Series(rms_error)"
   ]
  },
  {
   "cell_type": "code",
   "execution_count": 21,
   "id": "db3c9366-65e2-47e3-91ae-3f6f49888f09",
   "metadata": {},
   "outputs": [
    {
     "data": {
      "text/html": [
       "<div>\n",
       "<style scoped>\n",
       "    .dataframe tbody tr th:only-of-type {\n",
       "        vertical-align: middle;\n",
       "    }\n",
       "\n",
       "    .dataframe tbody tr th {\n",
       "        vertical-align: top;\n",
       "    }\n",
       "\n",
       "    .dataframe thead th {\n",
       "        text-align: right;\n",
       "    }\n",
       "</style>\n",
       "<table border=\"1\" class=\"dataframe\">\n",
       "  <thead>\n",
       "    <tr style=\"text-align: right;\">\n",
       "      <th></th>\n",
       "      <th>CO</th>\n",
       "    </tr>\n",
       "  </thead>\n",
       "  <tbody>\n",
       "    <tr>\n",
       "      <th>Fridge</th>\n",
       "      <td>80.013848</td>\n",
       "    </tr>\n",
       "    <tr>\n",
       "      <th>Freezer</th>\n",
       "      <td>217.680560</td>\n",
       "    </tr>\n",
       "    <tr>\n",
       "      <th>Washer dryer</th>\n",
       "      <td>295.100734</td>\n",
       "    </tr>\n",
       "    <tr>\n",
       "      <th>Washing machine</th>\n",
       "      <td>138.745378</td>\n",
       "    </tr>\n",
       "    <tr>\n",
       "      <th>Dish washer</th>\n",
       "      <td>25.793164</td>\n",
       "    </tr>\n",
       "    <tr>\n",
       "      <th>Computer</th>\n",
       "      <td>168.544110</td>\n",
       "    </tr>\n",
       "    <tr>\n",
       "      <th>Television</th>\n",
       "      <td>227.465805</td>\n",
       "    </tr>\n",
       "    <tr>\n",
       "      <th>Electric space heater</th>\n",
       "      <td>105.864832</td>\n",
       "    </tr>\n",
       "  </tbody>\n",
       "</table>\n",
       "</div>"
      ],
      "text/plain": [
       "                               CO\n",
       "Fridge                  80.013848\n",
       "Freezer                217.680560\n",
       "Washer dryer           295.100734\n",
       "Washing machine        138.745378\n",
       "Dish washer             25.793164\n",
       "Computer               168.544110\n",
       "Television             227.465805\n",
       "Electric space heater  105.864832"
      ]
     },
     "execution_count": 21,
     "metadata": {},
     "output_type": "execute_result"
    }
   ],
   "source": [
    "rmse = {}\n",
    "for clf_name in classifiers.keys():\n",
    "    rmse[clf_name] = nilmtk.utils.compute_rmse(gt, predictions[clf_name])\n",
    "\n",
    "rmse = pd.DataFrame(rmse)\n",
    "rmse"
   ]
  },
  {
   "cell_type": "code",
   "execution_count": null,
   "id": "1707a91a-9453-4df9-b76f-e99bc646ce1b",
   "metadata": {},
   "outputs": [],
   "source": [
    "appliance_labels = [m.label() for m in gt.columns.values]"
   ]
  },
  {
   "cell_type": "markdown",
   "id": "a3020769-8dd3-42d1-8841-7a3e6cad1dc7",
   "metadata": {},
   "source": [
    "HART85"
   ]
  },
  {
   "cell_type": "code",
   "execution_count": 25,
   "id": "ea5f4db6-acbc-4039-8744-d5fc3bbbcbc7",
   "metadata": {},
   "outputs": [],
   "source": [
    "from nilmtk.legacy.disaggregate.hart_85 import Hart85\n",
    "\n",
    "h = Hart85()"
   ]
  },
  {
   "cell_type": "code",
   "execution_count": 26,
   "id": "e9cde2b1-c4cd-44fc-b46b-f2d7217283ad",
   "metadata": {},
   "outputs": [
    {
     "name": "stdout",
     "output_type": "stream",
     "text": [
      "Finding Edges, please wait ...\n",
      "Edge detection complete.\n",
      "Creating transition frame ...\n",
      "Transition frame created.\n",
      "Creating states frame ...\n",
      "States frame created.\n",
      "Finished.\n"
     ]
    },
    {
     "ename": "AttributeError",
     "evalue": "type object 'object' has no attribute 'dtype'",
     "output_type": "error",
     "traceback": [
      "\u001b[1;31m---------------------------------------------------------------------------\u001b[0m",
      "\u001b[1;31mAttributeError\u001b[0m                            Traceback (most recent call last)",
      "Cell \u001b[1;32mIn[26], line 3\u001b[0m\n\u001b[0;32m      1\u001b[0m \u001b[38;5;66;03m#Training the model using HART85 disaggregation method\u001b[39;00m\n\u001b[1;32m----> 3\u001b[0m \u001b[43mh\u001b[49m\u001b[38;5;241;43m.\u001b[39;49m\u001b[43mtrain\u001b[49m\u001b[43m(\u001b[49m\u001b[43mmains\u001b[49m\u001b[43m,\u001b[49m\u001b[43mcolumns\u001b[49m\u001b[38;5;241;43m=\u001b[39;49m\u001b[43m[\u001b[49m\u001b[43m(\u001b[49m\u001b[38;5;124;43m'\u001b[39;49m\u001b[38;5;124;43mpower\u001b[39;49m\u001b[38;5;124;43m'\u001b[39;49m\u001b[43m,\u001b[49m\u001b[38;5;124;43m'\u001b[39;49m\u001b[38;5;124;43mactive\u001b[39;49m\u001b[38;5;124;43m'\u001b[39;49m\u001b[43m)\u001b[49m\u001b[43m]\u001b[49m\u001b[43m)\u001b[49m\n",
      "File \u001b[1;32m~\\anaconda3\\envs\\nilmtk-env\\lib\\site-packages\\nilmtk\\legacy\\disaggregate\\hart_85.py:245\u001b[0m, in \u001b[0;36mHart85.train\u001b[1;34m(self, metergroup, columns, buffer_size, noise_level, state_threshold, min_tolerance, percent_tolerance, large_transition, **kwargs)\u001b[0m\n\u001b[0;32m    242\u001b[0m \u001b[38;5;28mself\u001b[39m\u001b[38;5;241m.\u001b[39mnoise_level \u001b[38;5;241m=\u001b[39m noise_level\n\u001b[0;32m    243\u001b[0m [\u001b[38;5;28mself\u001b[39m\u001b[38;5;241m.\u001b[39msteady_states, \u001b[38;5;28mself\u001b[39m\u001b[38;5;241m.\u001b[39mtransients] \u001b[38;5;241m=\u001b[39m find_steady_states_transients(\n\u001b[0;32m    244\u001b[0m     metergroup, columns, noise_level, state_threshold, \u001b[38;5;241m*\u001b[39m\u001b[38;5;241m*\u001b[39mkwargs)\n\u001b[1;32m--> 245\u001b[0m \u001b[38;5;28mself\u001b[39m\u001b[38;5;241m.\u001b[39mpair_df \u001b[38;5;241m=\u001b[39m \u001b[38;5;28;43mself\u001b[39;49m\u001b[38;5;241;43m.\u001b[39;49m\u001b[43mpair\u001b[49m\u001b[43m(\u001b[49m\n\u001b[0;32m    246\u001b[0m \u001b[43m    \u001b[49m\u001b[43mbuffer_size\u001b[49m\u001b[43m,\u001b[49m\u001b[43m \u001b[49m\u001b[43mmin_tolerance\u001b[49m\u001b[43m,\u001b[49m\u001b[43m \u001b[49m\u001b[43mpercent_tolerance\u001b[49m\u001b[43m,\u001b[49m\u001b[43m \u001b[49m\u001b[43mlarge_transition\u001b[49m\u001b[43m)\u001b[49m\n\u001b[0;32m    247\u001b[0m \u001b[38;5;28mself\u001b[39m\u001b[38;5;241m.\u001b[39mcentroids \u001b[38;5;241m=\u001b[39m hart85_means_shift_cluster(\u001b[38;5;28mself\u001b[39m\u001b[38;5;241m.\u001b[39mpair_df, columns)\n\u001b[0;32m    249\u001b[0m \u001b[38;5;28mself\u001b[39m\u001b[38;5;241m.\u001b[39mmodel \u001b[38;5;241m=\u001b[39m \u001b[38;5;28mdict\u001b[39m(\n\u001b[0;32m    250\u001b[0m     columns\u001b[38;5;241m=\u001b[39mcolumns,\n\u001b[0;32m    251\u001b[0m     state_threshold\u001b[38;5;241m=\u001b[39mstate_threshold,\n\u001b[1;32m   (...)\u001b[0m\n\u001b[0;32m    256\u001b[0m     centroids\u001b[38;5;241m=\u001b[39m\u001b[38;5;28mself\u001b[39m\u001b[38;5;241m.\u001b[39mcentroids\n\u001b[0;32m    257\u001b[0m )\n",
      "File \u001b[1;32m~\\anaconda3\\envs\\nilmtk-env\\lib\\site-packages\\nilmtk\\legacy\\disaggregate\\hart_85.py:262\u001b[0m, in \u001b[0;36mHart85.pair\u001b[1;34m(self, buffer_size, min_tolerance, percent_tolerance, large_transition)\u001b[0m\n\u001b[0;32m    259\u001b[0m \u001b[38;5;28;01mdef\u001b[39;00m \u001b[38;5;21mpair\u001b[39m(\u001b[38;5;28mself\u001b[39m, buffer_size, min_tolerance, percent_tolerance,\n\u001b[0;32m    260\u001b[0m          large_transition):\n\u001b[0;32m    261\u001b[0m     subset \u001b[38;5;241m=\u001b[39m \u001b[38;5;28mlist\u001b[39m(\u001b[38;5;28mself\u001b[39m\u001b[38;5;241m.\u001b[39mtransients\u001b[38;5;241m.\u001b[39mitertuples())\n\u001b[1;32m--> 262\u001b[0m     buffer \u001b[38;5;241m=\u001b[39m \u001b[43mPairBuffer\u001b[49m\u001b[43m(\u001b[49m\n\u001b[0;32m    263\u001b[0m \u001b[43m        \u001b[49m\u001b[43mcolumns\u001b[49m\u001b[38;5;241;43m=\u001b[39;49m\u001b[38;5;28;43mself\u001b[39;49m\u001b[38;5;241;43m.\u001b[39;49m\u001b[43mcolumns\u001b[49m\u001b[43m,\u001b[49m\n\u001b[0;32m    264\u001b[0m \u001b[43m        \u001b[49m\u001b[43mmin_tolerance\u001b[49m\u001b[38;5;241;43m=\u001b[39;49m\u001b[43mmin_tolerance\u001b[49m\u001b[43m,\u001b[49m\n\u001b[0;32m    265\u001b[0m \u001b[43m        \u001b[49m\u001b[43mbuffer_size\u001b[49m\u001b[38;5;241;43m=\u001b[39;49m\u001b[43mbuffer_size\u001b[49m\u001b[43m,\u001b[49m\n\u001b[0;32m    266\u001b[0m \u001b[43m        \u001b[49m\u001b[43mpercent_tolerance\u001b[49m\u001b[38;5;241;43m=\u001b[39;49m\u001b[43mpercent_tolerance\u001b[49m\u001b[43m,\u001b[49m\n\u001b[0;32m    267\u001b[0m \u001b[43m        \u001b[49m\u001b[43mlarge_transition\u001b[49m\u001b[38;5;241;43m=\u001b[39;49m\u001b[43mlarge_transition\u001b[49m\u001b[43m,\u001b[49m\n\u001b[0;32m    268\u001b[0m \u001b[43m        \u001b[49m\u001b[43mnum_measurements\u001b[49m\u001b[38;5;241;43m=\u001b[39;49m\u001b[38;5;28;43mlen\u001b[39;49m\u001b[43m(\u001b[49m\n\u001b[0;32m    269\u001b[0m \u001b[43m            \u001b[49m\u001b[38;5;28;43mself\u001b[39;49m\u001b[38;5;241;43m.\u001b[39;49m\u001b[43mtransients\u001b[49m\u001b[38;5;241;43m.\u001b[39;49m\u001b[43mcolumns\u001b[49m\u001b[43m)\u001b[49m\u001b[43m \u001b[49m\u001b[38;5;241;43m+\u001b[39;49m\u001b[43m \u001b[49m\u001b[38;5;241;43m1\u001b[39;49m\u001b[43m)\u001b[49m\n\u001b[0;32m    270\u001b[0m     \u001b[38;5;28;01mfor\u001b[39;00m s \u001b[38;5;129;01min\u001b[39;00m subset:\n\u001b[0;32m    271\u001b[0m         \u001b[38;5;66;03m# if len(buffer.transitionList) < bsize\u001b[39;00m\n\u001b[0;32m    272\u001b[0m         \u001b[38;5;28;01mif\u001b[39;00m \u001b[38;5;28mlen\u001b[39m(buffer\u001b[38;5;241m.\u001b[39mtransition_list) \u001b[38;5;241m==\u001b[39m buffer_size:\n",
      "File \u001b[1;32m~\\anaconda3\\envs\\nilmtk-env\\lib\\site-packages\\nilmtk\\legacy\\disaggregate\\hart_85.py:63\u001b[0m, in \u001b[0;36mPairBuffer.__init__\u001b[1;34m(self, columns, buffer_size, min_tolerance, percent_tolerance, large_transition, num_measurements)\u001b[0m\n\u001b[0;32m     60\u001b[0m     \u001b[38;5;28;01melif\u001b[39;00m columns[\u001b[38;5;241m0\u001b[39m][\u001b[38;5;241m1\u001b[39m] \u001b[38;5;241m==\u001b[39m \u001b[38;5;124m'\u001b[39m\u001b[38;5;124mapparent\u001b[39m\u001b[38;5;124m'\u001b[39m:\n\u001b[0;32m     61\u001b[0m         \u001b[38;5;28mself\u001b[39m\u001b[38;5;241m.\u001b[39mpair_columns \u001b[38;5;241m=\u001b[39m [\u001b[38;5;124m'\u001b[39m\u001b[38;5;124mT1 Time\u001b[39m\u001b[38;5;124m'\u001b[39m, \u001b[38;5;124m'\u001b[39m\u001b[38;5;124mT1 Apparent\u001b[39m\u001b[38;5;124m'\u001b[39m,\n\u001b[0;32m     62\u001b[0m                              \u001b[38;5;124m'\u001b[39m\u001b[38;5;124mT2 Time\u001b[39m\u001b[38;5;124m'\u001b[39m, \u001b[38;5;124m'\u001b[39m\u001b[38;5;124mT2 Apparent\u001b[39m\u001b[38;5;124m'\u001b[39m]\n\u001b[1;32m---> 63\u001b[0m \u001b[38;5;28mself\u001b[39m\u001b[38;5;241m.\u001b[39mmatched_pairs \u001b[38;5;241m=\u001b[39m \u001b[43mpd\u001b[49m\u001b[38;5;241;43m.\u001b[39;49m\u001b[43mDataFrame\u001b[49m\u001b[43m(\u001b[49m\u001b[43mcolumns\u001b[49m\u001b[38;5;241;43m=\u001b[39;49m\u001b[38;5;28;43mself\u001b[39;49m\u001b[38;5;241;43m.\u001b[39;49m\u001b[43mpair_columns\u001b[49m\u001b[43m)\u001b[49m\n",
      "File \u001b[1;32m~\\anaconda3\\envs\\nilmtk-env\\lib\\site-packages\\pandas\\core\\frame.py:411\u001b[0m, in \u001b[0;36mDataFrame.__init__\u001b[1;34m(self, data, index, columns, dtype, copy)\u001b[0m\n\u001b[0;32m    407\u001b[0m     mgr \u001b[38;5;241m=\u001b[39m \u001b[38;5;28mself\u001b[39m\u001b[38;5;241m.\u001b[39m_init_mgr(\n\u001b[0;32m    408\u001b[0m         data, axes\u001b[38;5;241m=\u001b[39m\u001b[38;5;28mdict\u001b[39m(index\u001b[38;5;241m=\u001b[39mindex, columns\u001b[38;5;241m=\u001b[39mcolumns), dtype\u001b[38;5;241m=\u001b[39mdtype, copy\u001b[38;5;241m=\u001b[39mcopy\n\u001b[0;32m    409\u001b[0m     )\n\u001b[0;32m    410\u001b[0m \u001b[38;5;28;01melif\u001b[39;00m \u001b[38;5;28misinstance\u001b[39m(data, \u001b[38;5;28mdict\u001b[39m):\n\u001b[1;32m--> 411\u001b[0m     mgr \u001b[38;5;241m=\u001b[39m \u001b[43minit_dict\u001b[49m\u001b[43m(\u001b[49m\u001b[43mdata\u001b[49m\u001b[43m,\u001b[49m\u001b[43m \u001b[49m\u001b[43mindex\u001b[49m\u001b[43m,\u001b[49m\u001b[43m \u001b[49m\u001b[43mcolumns\u001b[49m\u001b[43m,\u001b[49m\u001b[43m \u001b[49m\u001b[43mdtype\u001b[49m\u001b[38;5;241;43m=\u001b[39;49m\u001b[43mdtype\u001b[49m\u001b[43m)\u001b[49m\n\u001b[0;32m    412\u001b[0m \u001b[38;5;28;01melif\u001b[39;00m \u001b[38;5;28misinstance\u001b[39m(data, ma\u001b[38;5;241m.\u001b[39mMaskedArray):\n\u001b[0;32m    413\u001b[0m     \u001b[38;5;28;01mimport\u001b[39;00m \u001b[38;5;21;01mnumpy\u001b[39;00m\u001b[38;5;21;01m.\u001b[39;00m\u001b[38;5;21;01mma\u001b[39;00m\u001b[38;5;21;01m.\u001b[39;00m\u001b[38;5;21;01mmrecords\u001b[39;00m \u001b[38;5;28;01mas\u001b[39;00m \u001b[38;5;21;01mmrecords\u001b[39;00m\n",
      "File \u001b[1;32m~\\anaconda3\\envs\\nilmtk-env\\lib\\site-packages\\pandas\\core\\internals\\construction.py:242\u001b[0m, in \u001b[0;36minit_dict\u001b[1;34m(data, index, columns, dtype)\u001b[0m\n\u001b[0;32m    240\u001b[0m         \u001b[38;5;28;01melse\u001b[39;00m:\n\u001b[0;32m    241\u001b[0m             nan_dtype \u001b[38;5;241m=\u001b[39m dtype\n\u001b[1;32m--> 242\u001b[0m         val \u001b[38;5;241m=\u001b[39m \u001b[43mconstruct_1d_arraylike_from_scalar\u001b[49m\u001b[43m(\u001b[49m\u001b[43mnp\u001b[49m\u001b[38;5;241;43m.\u001b[39;49m\u001b[43mnan\u001b[49m\u001b[43m,\u001b[49m\u001b[43m \u001b[49m\u001b[38;5;28;43mlen\u001b[39;49m\u001b[43m(\u001b[49m\u001b[43mindex\u001b[49m\u001b[43m)\u001b[49m\u001b[43m,\u001b[49m\u001b[43m \u001b[49m\u001b[43mnan_dtype\u001b[49m\u001b[43m)\u001b[49m\n\u001b[0;32m    243\u001b[0m         arrays\u001b[38;5;241m.\u001b[39mloc[missing] \u001b[38;5;241m=\u001b[39m [val] \u001b[38;5;241m*\u001b[39m missing\u001b[38;5;241m.\u001b[39msum()\n\u001b[0;32m    245\u001b[0m \u001b[38;5;28;01melse\u001b[39;00m:\n",
      "File \u001b[1;32m~\\anaconda3\\envs\\nilmtk-env\\lib\\site-packages\\pandas\\core\\dtypes\\cast.py:1221\u001b[0m, in \u001b[0;36mconstruct_1d_arraylike_from_scalar\u001b[1;34m(value, length, dtype)\u001b[0m\n\u001b[0;32m   1219\u001b[0m \u001b[38;5;28;01melse\u001b[39;00m:\n\u001b[0;32m   1220\u001b[0m     \u001b[38;5;28;01mif\u001b[39;00m \u001b[38;5;129;01mnot\u001b[39;00m \u001b[38;5;28misinstance\u001b[39m(dtype, (np\u001b[38;5;241m.\u001b[39mdtype, \u001b[38;5;28mtype\u001b[39m(np\u001b[38;5;241m.\u001b[39mdtype))):\n\u001b[1;32m-> 1221\u001b[0m         dtype \u001b[38;5;241m=\u001b[39m \u001b[43mdtype\u001b[49m\u001b[38;5;241;43m.\u001b[39;49m\u001b[43mdtype\u001b[49m\n\u001b[0;32m   1223\u001b[0m     \u001b[38;5;28;01mif\u001b[39;00m length \u001b[38;5;129;01mand\u001b[39;00m is_integer_dtype(dtype) \u001b[38;5;129;01mand\u001b[39;00m isna(value):\n\u001b[0;32m   1224\u001b[0m         \u001b[38;5;66;03m# coerce if we have nan for an integer dtype\u001b[39;00m\n\u001b[0;32m   1225\u001b[0m         dtype \u001b[38;5;241m=\u001b[39m np\u001b[38;5;241m.\u001b[39mdtype(\u001b[38;5;124m\"\u001b[39m\u001b[38;5;124mfloat64\u001b[39m\u001b[38;5;124m\"\u001b[39m)\n",
      "\u001b[1;31mAttributeError\u001b[0m: type object 'object' has no attribute 'dtype'"
     ]
    }
   ],
   "source": [
    "#Training the model using HART85 disaggregation method\n",
    "\n",
    "h.train(mains,columns=[('power','active')])"
   ]
  },
  {
   "cell_type": "code",
   "execution_count": 3,
   "id": "96295dde-0f7e-4bdb-a626-2ec14bae28d5",
   "metadata": {},
   "outputs": [
    {
     "ename": "NameError",
     "evalue": "name 'train' is not defined",
     "output_type": "error",
     "traceback": [
      "\u001b[1;31m---------------------------------------------------------------------------\u001b[0m",
      "\u001b[1;31mNameError\u001b[0m                                 Traceback (most recent call last)",
      "Cell \u001b[1;32mIn[3], line 5\u001b[0m\n\u001b[0;32m      2\u001b[0m \u001b[38;5;28;01mimport\u001b[39;00m \u001b[38;5;21;01mnumpy\u001b[39;00m \u001b[38;5;28;01mas\u001b[39;00m \u001b[38;5;21;01mnp\u001b[39;00m\n\u001b[0;32m      4\u001b[0m \u001b[38;5;66;03m# Open the original file jointly with new file, with `float32` at the end.\u001b[39;00m\n\u001b[1;32m----> 5\u001b[0m \u001b[38;5;28;01mwith\u001b[39;00m h5py\u001b[38;5;241m.\u001b[39mFile(\u001b[43mtrain\u001b[49m, \u001b[38;5;124m'\u001b[39m\u001b[38;5;124mr\u001b[39m\u001b[38;5;124m'\u001b[39m) \u001b[38;5;28;01mas\u001b[39;00m f, h5py\u001b[38;5;241m.\u001b[39mFile(newfile[:\u001b[38;5;241m-\u001b[39m\u001b[38;5;241m3\u001b[39m]\u001b[38;5;241m+\u001b[39m\u001b[38;5;124m'\u001b[39m\u001b[38;5;124m_float32.h5\u001b[39m\u001b[38;5;124m'\u001b[39m, \u001b[38;5;124m'\u001b[39m\u001b[38;5;124mw\u001b[39m\u001b[38;5;124m'\u001b[39m) \u001b[38;5;28;01mas\u001b[39;00m newf:\n\u001b[0;32m      6\u001b[0m     \u001b[38;5;66;03m# `head` is some directory structure\u001b[39;00m\n\u001b[0;32m      7\u001b[0m     \u001b[38;5;66;03m# Create groups to follow the same directory structure\u001b[39;00m\n\u001b[0;32m      8\u001b[0m     newf\u001b[38;5;241m.\u001b[39mcreate_group(head)\n\u001b[0;32m     10\u001b[0m     \u001b[38;5;66;03m# When it comes time to create a dataset, make the cast here.\u001b[39;00m\n",
      "\u001b[1;31mNameError\u001b[0m: name 'train' is not defined"
     ]
    }
   ],
   "source": [
    "import h5py\n",
    "import numpy as np\n",
    "\n",
    "# Open the original file jointly with new file, with `float32` at the end.\n",
    "with h5py.File(train, 'r') as f, h5py.File(newfile[:-3]+'_float32.h5', 'w') as newf:\n",
    "    # `head` is some directory structure\n",
    "    # Create groups to follow the same directory structure\n",
    "    newf.create_group(head)\n",
    "\n",
    "    # When it comes time to create a dataset, make the cast here.\n",
    "    newdata = (f[head+'/NewData'].value).astype('float32')\n",
    "    newf.create_dataset(head+'/NewData', data=newdata, dtype='f4')\n",
    "\n",
    "    # Proceed for all other datasets."
   ]
  },
  {
   "cell_type": "code",
   "execution_count": null,
   "id": "36046e71-ddc6-46ad-8a74-f33ae93e8485",
   "metadata": {},
   "outputs": [],
   "source": []
  }
 ],
 "metadata": {
  "kernelspec": {
   "display_name": "Python (nilmtk-env)",
   "language": "python",
   "name": "nilmtk-env"
  },
  "language_info": {
   "codemirror_mode": {
    "name": "ipython",
    "version": 3
   },
   "file_extension": ".py",
   "mimetype": "text/x-python",
   "name": "python",
   "nbconvert_exporter": "python",
   "pygments_lexer": "ipython3",
   "version": "3.8.19"
  }
 },
 "nbformat": 4,
 "nbformat_minor": 5
}
